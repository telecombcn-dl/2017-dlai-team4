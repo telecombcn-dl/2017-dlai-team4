{
 "cells": [
  {
   "cell_type": "code",
   "execution_count": 1,
   "metadata": {},
   "outputs": [
    {
     "name": "stderr",
     "output_type": "stream",
     "text": [
      "Using TensorFlow backend.\n"
     ]
    },
    {
     "name": "stdout",
     "output_type": "stream",
     "text": [
      "labels.csv\n",
      "sample_submission.csv\n",
      "test\n",
      "train\n",
      "\n"
     ]
    }
   ],
   "source": [
    "# This Python 3 environment comes with many helpful analytics libraries installed\n",
    "# It is defined by the kaggle/python docker image: https://github.com/kaggle/docker-python\n",
    "# For example, here's several helpful packages to load in \n",
    "import numpy as np # linear algebra\n",
    "import pandas as pd # data processing, CSV file I/O (e.g. pd.read_csv)\n",
    "import keras\n",
    "from keras.applications.vgg19 import VGG19\n",
    "from keras.models import Model\n",
    "from keras.layers import Dense, Dropout, Flatten\n",
    "\n",
    "import tensorflow as tf\n",
    "import random\n",
    "import os\n",
    "from tqdm import tqdm\n",
    "from sklearn import preprocessing\n",
    "from sklearn.model_selection import train_test_split\n",
    "import cv2\n",
    "# Input data files are available in the \"../input/\" directory.\n",
    "# For example, running this (by clicking run or pressing Shift+Enter) will list the files in the input directory\n",
    "\n",
    "from subprocess import check_output\n",
    "print(check_output([\"ls\", \"../input\"]).decode(\"utf8\"))\n",
    "\n",
    "# Any results you write to the current directory are saved as output."
   ]
  },
  {
   "cell_type": "code",
   "execution_count": 2,
   "metadata": {},
   "outputs": [],
   "source": [
    "# parameters\n",
    "dontFreezeLast = 2;\n",
    "\n",
    "patience = 30;\n",
    "\n",
    "loadWeights = False;\n",
    "saveWeights = False;\n",
    "\n",
    "tensorboard_dir = '../tb/VGG19v1/best_adam_opt';\n",
    "gpuName = '/device:GPU:0'\n",
    "tensorboardFlag = True;\n",
    "workers = 10;\n",
    "histogram_freq = 0;\n",
    "\n",
    "modelPath = '../models/VGG19_opt/run_adam.h5';\n",
    "\n",
    "batchSize = 64;\n",
    "epochs = 100;\n",
    "validation_size=0.3;"
   ]
  },
  {
   "cell_type": "markdown",
   "metadata": {},
   "source": [
    "First we will read in the csv's so we can see some more information on the filenames and breeds"
   ]
  },
  {
   "cell_type": "code",
   "execution_count": 3,
   "metadata": {},
   "outputs": [
    {
     "name": "stdout",
     "output_type": "stream",
     "text": [
      "Training images:  10222\n",
      "Test images:  10357\n"
     ]
    }
   ],
   "source": [
    "df_train = pd.read_csv('../input/labels.csv')\n",
    "df_test = pd.read_csv('../input/sample_submission.csv')\n",
    "\n",
    "print('Training images: ',df_train.shape[0])\n",
    "print('Test images: ',df_test.shape[0])\n",
    "\n",
    "# reduce dimensionality\n",
    "#df_train = df_train.head(100)\n",
    "#df_test = df_test.head(100)"
   ]
  },
  {
   "cell_type": "code",
   "execution_count": 4,
   "metadata": {},
   "outputs": [
    {
     "data": {
      "text/html": [
       "<div>\n",
       "<style scoped>\n",
       "    .dataframe tbody tr th:only-of-type {\n",
       "        vertical-align: middle;\n",
       "    }\n",
       "\n",
       "    .dataframe tbody tr th {\n",
       "        vertical-align: top;\n",
       "    }\n",
       "\n",
       "    .dataframe thead th {\n",
       "        text-align: right;\n",
       "    }\n",
       "</style>\n",
       "<table border=\"1\" class=\"dataframe\">\n",
       "  <thead>\n",
       "    <tr style=\"text-align: right;\">\n",
       "      <th></th>\n",
       "      <th>id</th>\n",
       "      <th>breed</th>\n",
       "    </tr>\n",
       "  </thead>\n",
       "  <tbody>\n",
       "    <tr>\n",
       "      <th>0</th>\n",
       "      <td>000bec180eb18c7604dcecc8fe0dba07</td>\n",
       "      <td>boston_bull</td>\n",
       "    </tr>\n",
       "    <tr>\n",
       "      <th>1</th>\n",
       "      <td>001513dfcb2ffafc82cccf4d8bbaba97</td>\n",
       "      <td>dingo</td>\n",
       "    </tr>\n",
       "    <tr>\n",
       "      <th>2</th>\n",
       "      <td>001cdf01b096e06d78e9e5112d419397</td>\n",
       "      <td>pekinese</td>\n",
       "    </tr>\n",
       "    <tr>\n",
       "      <th>3</th>\n",
       "      <td>00214f311d5d2247d5dfe4fe24b2303d</td>\n",
       "      <td>bluetick</td>\n",
       "    </tr>\n",
       "    <tr>\n",
       "      <th>4</th>\n",
       "      <td>0021f9ceb3235effd7fcde7f7538ed62</td>\n",
       "      <td>golden_retriever</td>\n",
       "    </tr>\n",
       "    <tr>\n",
       "      <th>5</th>\n",
       "      <td>002211c81b498ef88e1b40b9abf84e1d</td>\n",
       "      <td>bedlington_terrier</td>\n",
       "    </tr>\n",
       "    <tr>\n",
       "      <th>6</th>\n",
       "      <td>00290d3e1fdd27226ba27a8ce248ce85</td>\n",
       "      <td>bedlington_terrier</td>\n",
       "    </tr>\n",
       "    <tr>\n",
       "      <th>7</th>\n",
       "      <td>002a283a315af96eaea0e28e7163b21b</td>\n",
       "      <td>borzoi</td>\n",
       "    </tr>\n",
       "    <tr>\n",
       "      <th>8</th>\n",
       "      <td>003df8b8a8b05244b1d920bb6cf451f9</td>\n",
       "      <td>basenji</td>\n",
       "    </tr>\n",
       "    <tr>\n",
       "      <th>9</th>\n",
       "      <td>0042188c895a2f14ef64a918ed9c7b64</td>\n",
       "      <td>scottish_deerhound</td>\n",
       "    </tr>\n",
       "  </tbody>\n",
       "</table>\n",
       "</div>"
      ],
      "text/plain": [
       "                                 id               breed\n",
       "0  000bec180eb18c7604dcecc8fe0dba07         boston_bull\n",
       "1  001513dfcb2ffafc82cccf4d8bbaba97               dingo\n",
       "2  001cdf01b096e06d78e9e5112d419397            pekinese\n",
       "3  00214f311d5d2247d5dfe4fe24b2303d            bluetick\n",
       "4  0021f9ceb3235effd7fcde7f7538ed62    golden_retriever\n",
       "5  002211c81b498ef88e1b40b9abf84e1d  bedlington_terrier\n",
       "6  00290d3e1fdd27226ba27a8ce248ce85  bedlington_terrier\n",
       "7  002a283a315af96eaea0e28e7163b21b              borzoi\n",
       "8  003df8b8a8b05244b1d920bb6cf451f9             basenji\n",
       "9  0042188c895a2f14ef64a918ed9c7b64  scottish_deerhound"
      ]
     },
     "execution_count": 4,
     "metadata": {},
     "output_type": "execute_result"
    }
   ],
   "source": [
    "df_train.head(10)"
   ]
  },
  {
   "cell_type": "markdown",
   "metadata": {},
   "source": [
    "We can see that the breed needs to be one-hot encoded for the final submission, so we will now do this."
   ]
  },
  {
   "cell_type": "code",
   "execution_count": 5,
   "metadata": {},
   "outputs": [],
   "source": [
    "targets_series = pd.Series(df_train['breed'])\n",
    "one_hot = pd.get_dummies(targets_series, sparse = True)"
   ]
  },
  {
   "cell_type": "code",
   "execution_count": 6,
   "metadata": {},
   "outputs": [],
   "source": [
    "one_hot_labels = np.asarray(one_hot)"
   ]
  },
  {
   "cell_type": "markdown",
   "metadata": {},
   "source": [
    "Next we will read in all of the images for test and train, using a for loop through the values of the csv files. I have also set an im_size variable which sets the size for the image to be re-sized to, 90x90 px, you should play with this number to see how it affects accuracy."
   ]
  },
  {
   "cell_type": "code",
   "execution_count": 7,
   "metadata": {},
   "outputs": [],
   "source": [
    "im_size = 90"
   ]
  },
  {
   "cell_type": "code",
   "execution_count": 8,
   "metadata": {},
   "outputs": [],
   "source": [
    "x_train = []\n",
    "y_train = []\n",
    "x_test = []"
   ]
  },
  {
   "cell_type": "code",
   "execution_count": 9,
   "metadata": {},
   "outputs": [
    {
     "name": "stderr",
     "output_type": "stream",
     "text": [
      "100%|██████████| 10222/10222 [00:49<00:00, 204.87it/s]\n"
     ]
    }
   ],
   "source": [
    "i = 0 \n",
    "for f, breed in tqdm(df_train.values):\n",
    "    img = cv2.imread('../input/train/{}.jpg'.format(f))\n",
    "    label = one_hot_labels[i]\n",
    "    x_train.append(cv2.resize(img, (im_size, im_size)))\n",
    "    y_train.append(label)\n",
    "    i += 1"
   ]
  },
  {
   "cell_type": "code",
   "execution_count": 10,
   "metadata": {},
   "outputs": [],
   "source": [
    "# for f in tqdm(df_test['id'].values):\n",
    "#     img = cv2.imread('../input/test/{}.jpg'.format(f))\n",
    "#     x_test.append(cv2.resize(img, (im_size, im_size)))"
   ]
  },
  {
   "cell_type": "code",
   "execution_count": 11,
   "metadata": {},
   "outputs": [],
   "source": [
    "y_train_raw = np.array(y_train, np.uint8)\n",
    "x_train_raw = np.array(x_train, np.float32) / 255.\n",
    "x_test  = np.array(x_test, np.float32) / 255."
   ]
  },
  {
   "cell_type": "markdown",
   "metadata": {},
   "source": [
    "We check the shape of the outputs to make sure everyting went as expected."
   ]
  },
  {
   "cell_type": "code",
   "execution_count": 12,
   "metadata": {},
   "outputs": [
    {
     "name": "stdout",
     "output_type": "stream",
     "text": [
      "(10222, 90, 90, 3)\n",
      "(10222, 120)\n",
      "(0,)\n"
     ]
    }
   ],
   "source": [
    "print(x_train_raw.shape)\n",
    "print(y_train_raw.shape)\n",
    "print(x_test.shape)"
   ]
  },
  {
   "cell_type": "markdown",
   "metadata": {},
   "source": [
    "We can see above that there are 120 different breeds. We can put this in a num_class variable below that can then be used when creating the CNN model."
   ]
  },
  {
   "cell_type": "code",
   "execution_count": 13,
   "metadata": {},
   "outputs": [
    {
     "name": "stdout",
     "output_type": "stream",
     "text": [
      "Number of classes:  120\n"
     ]
    }
   ],
   "source": [
    "num_class = y_train_raw.shape[1]\n",
    "print('Number of classes: ', num_class)"
   ]
  },
  {
   "cell_type": "markdown",
   "metadata": {},
   "source": [
    "It is important to create a validation set so that you can gauge the performance of your model on independent data, unseen to the model in training. We do this by splitting the current training set (x_train_raw) and the corresponding labels (y_train_raw) so that we set aside 30 % of the data at random and put these in validation sets (X_valid and Y_valid).\n",
    "\n",
    "* This split needs to be improved so that it contains images from every class, with 120 separate classes some can not be represented and so the validation score is not informative."
   ]
  },
  {
   "cell_type": "code",
   "execution_count": 14,
   "metadata": {},
   "outputs": [],
   "source": [
    "X_train, X_valid, Y_train, Y_valid = train_test_split(x_train_raw, y_train_raw, test_size=validation_size, random_state=1)"
   ]
  },
  {
   "cell_type": "markdown",
   "metadata": {},
   "source": [
    "Now we build the CNN architecture. Here we are using a pre-trained model VGG19 which has already been trained to identify many different dog breeds (as well as a lot of other objects from the imagenet dataset see here for more information: http://image-net.org/about-overview). Unfortunately it doesn't seem possible to downlod the weights from within this kernel so make sure you set the weights argument to 'imagenet' and not None, as it currently is below.\n",
    "\n",
    "We then remove the final layer and instead replace it with a single dense layer with the number of nodes corresponding to the number of breed classes we have (120)."
   ]
  },
  {
   "cell_type": "code",
   "execution_count": 15,
   "metadata": {},
   "outputs": [
    {
     "name": "stdout",
     "output_type": "stream",
     "text": [
      "Tensorboard activated in directory:  ../tb/VGG19v1/best_adam_opt\n",
      "_________________________________________________________________\n",
      "Layer (type)                 Output Shape              Param #   \n",
      "=================================================================\n",
      "input_1 (InputLayer)         (None, 90, 90, 3)         0         \n",
      "_________________________________________________________________\n",
      "block1_conv1 (Conv2D)        (None, 90, 90, 64)        1792      \n",
      "_________________________________________________________________\n",
      "block1_conv2 (Conv2D)        (None, 90, 90, 64)        36928     \n",
      "_________________________________________________________________\n",
      "block1_pool (MaxPooling2D)   (None, 45, 45, 64)        0         \n",
      "_________________________________________________________________\n",
      "block2_conv1 (Conv2D)        (None, 45, 45, 128)       73856     \n",
      "_________________________________________________________________\n",
      "block2_conv2 (Conv2D)        (None, 45, 45, 128)       147584    \n",
      "_________________________________________________________________\n",
      "block2_pool (MaxPooling2D)   (None, 22, 22, 128)       0         \n",
      "_________________________________________________________________\n",
      "block3_conv1 (Conv2D)        (None, 22, 22, 256)       295168    \n",
      "_________________________________________________________________\n",
      "block3_conv2 (Conv2D)        (None, 22, 22, 256)       590080    \n",
      "_________________________________________________________________\n",
      "block3_conv3 (Conv2D)        (None, 22, 22, 256)       590080    \n",
      "_________________________________________________________________\n",
      "block3_conv4 (Conv2D)        (None, 22, 22, 256)       590080    \n",
      "_________________________________________________________________\n",
      "block3_pool (MaxPooling2D)   (None, 11, 11, 256)       0         \n",
      "_________________________________________________________________\n",
      "block4_conv1 (Conv2D)        (None, 11, 11, 512)       1180160   \n",
      "_________________________________________________________________\n",
      "block4_conv2 (Conv2D)        (None, 11, 11, 512)       2359808   \n",
      "_________________________________________________________________\n",
      "block4_conv3 (Conv2D)        (None, 11, 11, 512)       2359808   \n",
      "_________________________________________________________________\n",
      "block4_conv4 (Conv2D)        (None, 11, 11, 512)       2359808   \n",
      "_________________________________________________________________\n",
      "block4_pool (MaxPooling2D)   (None, 5, 5, 512)         0         \n",
      "_________________________________________________________________\n",
      "block5_conv1 (Conv2D)        (None, 5, 5, 512)         2359808   \n",
      "_________________________________________________________________\n",
      "block5_conv2 (Conv2D)        (None, 5, 5, 512)         2359808   \n",
      "_________________________________________________________________\n",
      "block5_conv3 (Conv2D)        (None, 5, 5, 512)         2359808   \n",
      "_________________________________________________________________\n",
      "block5_conv4 (Conv2D)        (None, 5, 5, 512)         2359808   \n",
      "_________________________________________________________________\n",
      "block5_pool (MaxPooling2D)   (None, 2, 2, 512)         0         \n",
      "_________________________________________________________________\n",
      "flatten_1 (Flatten)          (None, 2048)              0         \n",
      "_________________________________________________________________\n",
      "dropout_1 (Dropout)          (None, 2048)              0         \n",
      "_________________________________________________________________\n",
      "dense_1 (Dense)              (None, 1024)              2098176   \n",
      "_________________________________________________________________\n",
      "dense_2 (Dense)              (None, 512)               524800    \n",
      "_________________________________________________________________\n",
      "dense_3 (Dense)              (None, 120)               61560     \n",
      "=================================================================\n",
      "Total params: 22,708,920\n",
      "Trainable params: 5,044,344\n",
      "Non-trainable params: 17,664,576\n",
      "_________________________________________________________________\n"
     ]
    }
   ],
   "source": [
    "# Create the base pre-trained model\n",
    "# Can't download weights in the kernel\n",
    "with tf.device(gpuName):\n",
    "    base_model = VGG19(#weights='imagenet',\n",
    "        weights = 'imagenet', include_top=False, input_shape=(im_size, im_size, 3))\n",
    "\n",
    "    # Add a new top layer\n",
    "    x = base_model.output\n",
    "    x = Flatten()(x)\n",
    "    x = Dropout(0.7)(x)\n",
    "    x = Dense(1024,activation='relu')(x)\n",
    "    x = Dense(512,activation='relu')(x)\n",
    "    predictions = Dense(num_class, activation='softmax')(x)\n",
    "\n",
    "    # This is the model we will train\n",
    "    model = Model(inputs=base_model.input, outputs=predictions)\n",
    "\n",
    "    # First: train only the top layers (which were randomly initialized)\n",
    "    for i in range(len(base_model.layers)-dontFreezeLast):\n",
    "        base_model.layers[i].trainable = False\n",
    "\n",
    "    if loadWeights:\n",
    "        model.load_weights(checkPointPath)\n",
    "    \n",
    "    lr=0.00020389590556056983;\n",
    "    beta_1=0.9453158868247398;\n",
    "    beta_2=0.9925872692991417;\n",
    "    decay=0.000821336141287018;\n",
    "    adam = keras.optimizers.Adam(lr=lr,beta_1=beta_1,beta_2=beta_2,decay=decay)\n",
    "    model.compile(loss='categorical_crossentropy', \n",
    "                  optimizer=adam, \n",
    "                  metrics=['accuracy'])\n",
    "\n",
    "    callbacks_list = [];\n",
    "    callbacks_list.append(keras.callbacks.EarlyStopping(\n",
    "        monitor='val_acc',\n",
    "        patience=patience,\n",
    "        verbose=1));\n",
    "    if saveWeights:\n",
    "        callbacks_list.append(keras.callbacks.ModelCheckpoint(\n",
    "            checkPointPath,\n",
    "            monitor='val_acc',\n",
    "            verbose=1,\n",
    "            save_best_only=True,\n",
    "            mode='max',\n",
    "            save_weights_only=True))\n",
    "    if tensorboardFlag:\n",
    "        callbacks_list.append(keras.callbacks.TensorBoard(\n",
    "                log_dir=tensorboard_dir,\n",
    "                histogram_freq=histogram_freq,\n",
    "                write_graph=False,\n",
    "                write_images=False));\n",
    "        print('Tensorboard activated in directory: ',tensorboard_dir)\n",
    "    else:\n",
    "        print('Tensorboard NOT activated')\n",
    "\n",
    "\n",
    "    model.summary()"
   ]
  },
  {
   "cell_type": "code",
   "execution_count": 16,
   "metadata": {},
   "outputs": [],
   "source": [
    "def generator(X,Y,batch_size):\n",
    "    batch_features = np.ndarray(shape=(batch_size,) + X.shape[1:],\n",
    "                                dtype=X.dtype);\n",
    "    batch_labels = np.ndarray(shape=(batch_size,) + Y.shape[1:],\n",
    "                                dtype=Y.dtype)\n",
    "    N = X.shape[0];\n",
    "    \n",
    "    while True:\n",
    "        for i in range(batch_size):\n",
    "            # choose random index in features\n",
    "            index= np.random.choice(N,1)\n",
    "            batch_features[i] = X[index]\n",
    "            batch_labels[i] = Y[index]\n",
    "        yield batch_features, batch_labels"
   ]
  },
  {
   "cell_type": "code",
   "execution_count": 17,
   "metadata": {},
   "outputs": [
    {
     "name": "stdout",
     "output_type": "stream",
     "text": [
      "Train on 7155 samples, validate on 3067 samples\n",
      "Epoch 1/100\n",
      "7155/7155 [==============================] - 40s 6ms/step - loss: 4.8412 - acc: 0.0136 - val_loss: 4.7413 - val_acc: 0.0245\n",
      "Epoch 2/100\n",
      "7155/7155 [==============================] - 28s 4ms/step - loss: 4.6953 - acc: 0.0278 - val_loss: 4.6086 - val_acc: 0.0496\n",
      "Epoch 3/100\n",
      "7155/7155 [==============================] - 28s 4ms/step - loss: 4.4687 - acc: 0.0577 - val_loss: 4.3485 - val_acc: 0.0668\n",
      "Epoch 4/100\n",
      "7155/7155 [==============================] - 28s 4ms/step - loss: 4.1628 - acc: 0.0939 - val_loss: 4.0944 - val_acc: 0.0991\n",
      "Epoch 5/100\n",
      "7155/7155 [==============================] - 28s 4ms/step - loss: 3.8648 - acc: 0.1303 - val_loss: 3.9027 - val_acc: 0.1171\n",
      "Epoch 6/100\n",
      "7155/7155 [==============================] - 28s 4ms/step - loss: 3.6330 - acc: 0.1637 - val_loss: 3.7993 - val_acc: 0.1311\n",
      "Epoch 7/100\n",
      "7155/7155 [==============================] - 28s 4ms/step - loss: 3.4313 - acc: 0.1985 - val_loss: 3.7201 - val_acc: 0.1441\n",
      "Epoch 8/100\n",
      "7155/7155 [==============================] - 28s 4ms/step - loss: 3.2523 - acc: 0.2275 - val_loss: 3.6804 - val_acc: 0.1503\n",
      "Epoch 9/100\n",
      "7155/7155 [==============================] - 28s 4ms/step - loss: 3.0911 - acc: 0.2512 - val_loss: 3.6384 - val_acc: 0.1630\n",
      "Epoch 10/100\n",
      "7155/7155 [==============================] - 28s 4ms/step - loss: 2.9507 - acc: 0.2826 - val_loss: 3.5991 - val_acc: 0.1686\n",
      "Epoch 11/100\n",
      "7155/7155 [==============================] - 28s 4ms/step - loss: 2.7810 - acc: 0.3126 - val_loss: 3.6088 - val_acc: 0.1614\n",
      "Epoch 12/100\n",
      "7155/7155 [==============================] - 28s 4ms/step - loss: 2.6652 - acc: 0.3350 - val_loss: 3.5665 - val_acc: 0.1826\n",
      "Epoch 13/100\n",
      "7155/7155 [==============================] - 28s 4ms/step - loss: 2.5412 - acc: 0.3599 - val_loss: 3.5777 - val_acc: 0.1797\n",
      "Epoch 14/100\n",
      "7155/7155 [==============================] - 28s 4ms/step - loss: 2.4203 - acc: 0.3932 - val_loss: 3.5753 - val_acc: 0.1849\n",
      "Epoch 15/100\n",
      "7155/7155 [==============================] - 28s 4ms/step - loss: 2.2786 - acc: 0.4233 - val_loss: 3.5732 - val_acc: 0.1829\n",
      "Epoch 16/100\n",
      "7155/7155 [==============================] - 28s 4ms/step - loss: 2.2050 - acc: 0.4373 - val_loss: 3.6072 - val_acc: 0.1816\n",
      "Epoch 17/100\n",
      "7155/7155 [==============================] - 28s 4ms/step - loss: 2.0881 - acc: 0.4717 - val_loss: 3.6086 - val_acc: 0.1849\n",
      "Epoch 18/100\n",
      "7155/7155 [==============================] - 28s 4ms/step - loss: 1.9729 - acc: 0.4942 - val_loss: 3.6156 - val_acc: 0.1823\n",
      "Epoch 19/100\n",
      "7155/7155 [==============================] - 28s 4ms/step - loss: 1.9001 - acc: 0.5022 - val_loss: 3.5909 - val_acc: 0.1930\n",
      "Epoch 20/100\n",
      "7155/7155 [==============================] - 28s 4ms/step - loss: 1.8182 - acc: 0.5287 - val_loss: 3.6373 - val_acc: 0.1881\n",
      "Epoch 21/100\n",
      "7155/7155 [==============================] - 28s 4ms/step - loss: 1.7025 - acc: 0.5604 - val_loss: 3.6326 - val_acc: 0.1953\n",
      "Epoch 22/100\n",
      "7155/7155 [==============================] - 28s 4ms/step - loss: 1.6093 - acc: 0.5803 - val_loss: 3.6636 - val_acc: 0.1976\n",
      "Epoch 23/100\n",
      "7155/7155 [==============================] - 28s 4ms/step - loss: 1.5656 - acc: 0.5905 - val_loss: 3.6725 - val_acc: 0.1911\n",
      "Epoch 24/100\n",
      "7155/7155 [==============================] - 28s 4ms/step - loss: 1.4893 - acc: 0.6229 - val_loss: 3.6893 - val_acc: 0.1947\n",
      "Epoch 25/100\n",
      "7155/7155 [==============================] - 28s 4ms/step - loss: 1.4153 - acc: 0.6366 - val_loss: 3.6935 - val_acc: 0.1979\n",
      "Epoch 26/100\n",
      "7155/7155 [==============================] - 28s 4ms/step - loss: 1.3508 - acc: 0.6426 - val_loss: 3.7298 - val_acc: 0.1943\n",
      "Epoch 27/100\n",
      "7155/7155 [==============================] - 28s 4ms/step - loss: 1.2927 - acc: 0.6630 - val_loss: 3.7438 - val_acc: 0.1872\n",
      "Epoch 28/100\n",
      "7155/7155 [==============================] - 28s 4ms/step - loss: 1.2326 - acc: 0.6801 - val_loss: 3.7597 - val_acc: 0.1933\n",
      "Epoch 29/100\n",
      "7155/7155 [==============================] - 28s 4ms/step - loss: 1.1964 - acc: 0.6887 - val_loss: 3.7865 - val_acc: 0.1917\n",
      "Epoch 30/100\n",
      "7155/7155 [==============================] - 28s 4ms/step - loss: 1.1208 - acc: 0.7064 - val_loss: 3.7924 - val_acc: 0.1953\n",
      "Epoch 31/100\n",
      "7155/7155 [==============================] - 28s 4ms/step - loss: 1.0719 - acc: 0.7191 - val_loss: 3.8184 - val_acc: 0.1924\n",
      "Epoch 32/100\n",
      "7155/7155 [==============================] - 28s 4ms/step - loss: 1.0340 - acc: 0.7284 - val_loss: 3.8249 - val_acc: 0.1979\n",
      "Epoch 33/100\n",
      "7155/7155 [==============================] - 28s 4ms/step - loss: 0.9947 - acc: 0.7385 - val_loss: 3.8122 - val_acc: 0.1940\n",
      "Epoch 34/100\n",
      "7155/7155 [==============================] - 28s 4ms/step - loss: 0.9417 - acc: 0.7581 - val_loss: 3.8468 - val_acc: 0.1956\n",
      "Epoch 35/100\n",
      "7155/7155 [==============================] - 28s 4ms/step - loss: 0.9200 - acc: 0.7575 - val_loss: 3.8600 - val_acc: 0.1986\n",
      "Epoch 36/100\n",
      "7155/7155 [==============================] - 28s 4ms/step - loss: 0.8786 - acc: 0.7713 - val_loss: 3.8978 - val_acc: 0.1969\n",
      "Epoch 37/100\n",
      "7155/7155 [==============================] - 28s 4ms/step - loss: 0.8392 - acc: 0.7869 - val_loss: 3.9021 - val_acc: 0.1960\n",
      "Epoch 38/100\n",
      "7155/7155 [==============================] - 28s 4ms/step - loss: 0.8171 - acc: 0.7937 - val_loss: 3.9377 - val_acc: 0.1943\n",
      "Epoch 39/100\n",
      "7155/7155 [==============================] - 28s 4ms/step - loss: 0.7523 - acc: 0.8126 - val_loss: 3.9675 - val_acc: 0.1894\n",
      "Epoch 40/100\n",
      "7155/7155 [==============================] - 28s 4ms/step - loss: 0.7404 - acc: 0.8140 - val_loss: 3.9352 - val_acc: 0.1986\n",
      "Epoch 41/100\n",
      "7155/7155 [==============================] - 28s 4ms/step - loss: 0.7207 - acc: 0.8191 - val_loss: 3.9599 - val_acc: 0.1956\n",
      "Epoch 42/100\n",
      "7155/7155 [==============================] - 28s 4ms/step - loss: 0.6947 - acc: 0.8282 - val_loss: 3.9690 - val_acc: 0.1973\n",
      "Epoch 43/100\n",
      "7155/7155 [==============================] - 28s 4ms/step - loss: 0.6541 - acc: 0.8366 - val_loss: 4.0000 - val_acc: 0.1995\n",
      "Epoch 44/100\n",
      "7155/7155 [==============================] - 28s 4ms/step - loss: 0.6444 - acc: 0.8365 - val_loss: 3.9942 - val_acc: 0.1960\n",
      "Epoch 45/100\n",
      "7155/7155 [==============================] - 28s 4ms/step - loss: 0.6241 - acc: 0.8447 - val_loss: 4.0183 - val_acc: 0.1979\n",
      "Epoch 46/100\n",
      "7155/7155 [==============================] - 28s 4ms/step - loss: 0.6095 - acc: 0.8509 - val_loss: 4.0178 - val_acc: 0.1973\n",
      "Epoch 47/100\n",
      "7155/7155 [==============================] - 28s 4ms/step - loss: 0.5663 - acc: 0.8672 - val_loss: 4.0317 - val_acc: 0.1979\n",
      "Epoch 48/100\n",
      "7155/7155 [==============================] - 28s 4ms/step - loss: 0.5684 - acc: 0.8595 - val_loss: 4.0602 - val_acc: 0.1963\n",
      "Epoch 49/100\n",
      "7155/7155 [==============================] - 28s 4ms/step - loss: 0.5284 - acc: 0.8689 - val_loss: 4.0677 - val_acc: 0.1973\n",
      "Epoch 50/100\n",
      "7155/7155 [==============================] - 28s 4ms/step - loss: 0.5014 - acc: 0.8811 - val_loss: 4.0610 - val_acc: 0.1966\n",
      "Epoch 51/100\n",
      "7155/7155 [==============================] - 28s 4ms/step - loss: 0.4985 - acc: 0.8776 - val_loss: 4.0993 - val_acc: 0.1976\n",
      "Epoch 52/100\n",
      "7155/7155 [==============================] - 28s 4ms/step - loss: 0.4848 - acc: 0.8853 - val_loss: 4.1204 - val_acc: 0.1973\n",
      "Epoch 53/100\n",
      "7155/7155 [==============================] - 28s 4ms/step - loss: 0.4561 - acc: 0.8925 - val_loss: 4.1188 - val_acc: 0.1986\n",
      "Epoch 54/100\n",
      "7155/7155 [==============================] - 28s 4ms/step - loss: 0.4621 - acc: 0.8897 - val_loss: 4.1224 - val_acc: 0.1966\n",
      "Epoch 55/100\n",
      "7155/7155 [==============================] - 28s 4ms/step - loss: 0.4387 - acc: 0.8985 - val_loss: 4.1340 - val_acc: 0.1989\n",
      "Epoch 56/100\n",
      "7155/7155 [==============================] - 28s 4ms/step - loss: 0.4269 - acc: 0.8985 - val_loss: 4.1564 - val_acc: 0.1976\n",
      "Epoch 57/100\n",
      "7155/7155 [==============================] - 28s 4ms/step - loss: 0.4077 - acc: 0.9051 - val_loss: 4.1787 - val_acc: 0.1966\n",
      "Epoch 58/100\n",
      "7155/7155 [==============================] - 28s 4ms/step - loss: 0.4006 - acc: 0.9040 - val_loss: 4.1662 - val_acc: 0.1973\n",
      "Epoch 59/100\n",
      "7155/7155 [==============================] - 28s 4ms/step - loss: 0.3782 - acc: 0.9175 - val_loss: 4.2017 - val_acc: 0.2012\n",
      "Epoch 60/100\n"
     ]
    },
    {
     "name": "stdout",
     "output_type": "stream",
     "text": [
      "7155/7155 [==============================] - 28s 4ms/step - loss: 0.3890 - acc: 0.9071 - val_loss: 4.1907 - val_acc: 0.1947\n",
      "Epoch 61/100\n",
      "7155/7155 [==============================] - 28s 4ms/step - loss: 0.3650 - acc: 0.9154 - val_loss: 4.2267 - val_acc: 0.1963\n",
      "Epoch 62/100\n",
      "7155/7155 [==============================] - 28s 4ms/step - loss: 0.3711 - acc: 0.9121 - val_loss: 4.2199 - val_acc: 0.1956\n",
      "Epoch 63/100\n",
      "7155/7155 [==============================] - 28s 4ms/step - loss: 0.3482 - acc: 0.9196 - val_loss: 4.2365 - val_acc: 0.1982\n",
      "Epoch 64/100\n",
      "7155/7155 [==============================] - 28s 4ms/step - loss: 0.3360 - acc: 0.9245 - val_loss: 4.2573 - val_acc: 0.2005\n",
      "Epoch 65/100\n",
      "7155/7155 [==============================] - 28s 4ms/step - loss: 0.3341 - acc: 0.9219 - val_loss: 4.2425 - val_acc: 0.1989\n",
      "Epoch 66/100\n",
      "7155/7155 [==============================] - 28s 4ms/step - loss: 0.3334 - acc: 0.9251 - val_loss: 4.2501 - val_acc: 0.1943\n",
      "Epoch 67/100\n",
      "7155/7155 [==============================] - 28s 4ms/step - loss: 0.3154 - acc: 0.9301 - val_loss: 4.2754 - val_acc: 0.1979\n",
      "Epoch 68/100\n",
      "7155/7155 [==============================] - 28s 4ms/step - loss: 0.3186 - acc: 0.9290 - val_loss: 4.2897 - val_acc: 0.1986\n",
      "Epoch 69/100\n",
      "7155/7155 [==============================] - 28s 4ms/step - loss: 0.2910 - acc: 0.9368 - val_loss: 4.3097 - val_acc: 0.1973\n",
      "Epoch 70/100\n",
      "7155/7155 [==============================] - 28s 4ms/step - loss: 0.2878 - acc: 0.9375 - val_loss: 4.3145 - val_acc: 0.1973\n",
      "Epoch 71/100\n",
      "7155/7155 [==============================] - 28s 4ms/step - loss: 0.2881 - acc: 0.9349 - val_loss: 4.3053 - val_acc: 0.1986\n",
      "Epoch 72/100\n",
      "7155/7155 [==============================] - 28s 4ms/step - loss: 0.2661 - acc: 0.9419 - val_loss: 4.3428 - val_acc: 0.2054\n",
      "Epoch 73/100\n",
      "7155/7155 [==============================] - 28s 4ms/step - loss: 0.2719 - acc: 0.9395 - val_loss: 4.3363 - val_acc: 0.2005\n",
      "Epoch 74/100\n",
      "7155/7155 [==============================] - 28s 4ms/step - loss: 0.2523 - acc: 0.9474 - val_loss: 4.3592 - val_acc: 0.1973\n",
      "Epoch 75/100\n",
      "7155/7155 [==============================] - 28s 4ms/step - loss: 0.2635 - acc: 0.9398 - val_loss: 4.3247 - val_acc: 0.1953\n",
      "Epoch 76/100\n",
      "7155/7155 [==============================] - 28s 4ms/step - loss: 0.2486 - acc: 0.9511 - val_loss: 4.3833 - val_acc: 0.1982\n",
      "Epoch 77/100\n",
      "7155/7155 [==============================] - 28s 4ms/step - loss: 0.2429 - acc: 0.9470 - val_loss: 4.3722 - val_acc: 0.2035\n",
      "Epoch 78/100\n",
      "7155/7155 [==============================] - 28s 4ms/step - loss: 0.2378 - acc: 0.9445 - val_loss: 4.3682 - val_acc: 0.2018\n",
      "Epoch 79/100\n",
      "7155/7155 [==============================] - 28s 4ms/step - loss: 0.2322 - acc: 0.9505 - val_loss: 4.3731 - val_acc: 0.2008\n",
      "Epoch 80/100\n",
      "7155/7155 [==============================] - 28s 4ms/step - loss: 0.2234 - acc: 0.9487 - val_loss: 4.4000 - val_acc: 0.2015\n",
      "Epoch 81/100\n",
      "7155/7155 [==============================] - 28s 4ms/step - loss: 0.2357 - acc: 0.9493 - val_loss: 4.4060 - val_acc: 0.2038\n",
      "Epoch 82/100\n",
      "7155/7155 [==============================] - 28s 4ms/step - loss: 0.2167 - acc: 0.9563 - val_loss: 4.4099 - val_acc: 0.1995\n",
      "Epoch 83/100\n",
      "7155/7155 [==============================] - 28s 4ms/step - loss: 0.2243 - acc: 0.9523 - val_loss: 4.3962 - val_acc: 0.2008\n",
      "Epoch 84/100\n",
      "7155/7155 [==============================] - 28s 4ms/step - loss: 0.2027 - acc: 0.9603 - val_loss: 4.4201 - val_acc: 0.2035\n",
      "Epoch 85/100\n",
      "7155/7155 [==============================] - 28s 4ms/step - loss: 0.2122 - acc: 0.9544 - val_loss: 4.4307 - val_acc: 0.1969\n",
      "Epoch 86/100\n",
      "7155/7155 [==============================] - 28s 4ms/step - loss: 0.2103 - acc: 0.9561 - val_loss: 4.4392 - val_acc: 0.1979\n",
      "Epoch 87/100\n",
      "7155/7155 [==============================] - 28s 4ms/step - loss: 0.2022 - acc: 0.9592 - val_loss: 4.4384 - val_acc: 0.2035\n",
      "Epoch 88/100\n",
      "7155/7155 [==============================] - 28s 4ms/step - loss: 0.1966 - acc: 0.9606 - val_loss: 4.4346 - val_acc: 0.2054\n",
      "Epoch 89/100\n",
      "7155/7155 [==============================] - 28s 4ms/step - loss: 0.1953 - acc: 0.9571 - val_loss: 4.4470 - val_acc: 0.2031\n",
      "Epoch 90/100\n",
      "7155/7155 [==============================] - 28s 4ms/step - loss: 0.1846 - acc: 0.9634 - val_loss: 4.4718 - val_acc: 0.1963\n",
      "Epoch 91/100\n",
      "7155/7155 [==============================] - 28s 4ms/step - loss: 0.1875 - acc: 0.9620 - val_loss: 4.4625 - val_acc: 0.2002\n",
      "Epoch 92/100\n",
      "7155/7155 [==============================] - 28s 4ms/step - loss: 0.1792 - acc: 0.9642 - val_loss: 4.4893 - val_acc: 0.2012\n",
      "Epoch 93/100\n",
      "7155/7155 [==============================] - 28s 4ms/step - loss: 0.1782 - acc: 0.9651 - val_loss: 4.4702 - val_acc: 0.2005\n",
      "Epoch 94/100\n",
      "7155/7155 [==============================] - 28s 4ms/step - loss: 0.1728 - acc: 0.9639 - val_loss: 4.5001 - val_acc: 0.1973\n",
      "Epoch 95/100\n",
      "7155/7155 [==============================] - 28s 4ms/step - loss: 0.1669 - acc: 0.9660 - val_loss: 4.5200 - val_acc: 0.1979\n",
      "Epoch 96/100\n",
      "7155/7155 [==============================] - 28s 4ms/step - loss: 0.1680 - acc: 0.9658 - val_loss: 4.5351 - val_acc: 0.1966\n",
      "Epoch 97/100\n",
      "7155/7155 [==============================] - 28s 4ms/step - loss: 0.1652 - acc: 0.9637 - val_loss: 4.5280 - val_acc: 0.1963\n",
      "Epoch 98/100\n",
      "7155/7155 [==============================] - 28s 4ms/step - loss: 0.1654 - acc: 0.9659 - val_loss: 4.5419 - val_acc: 0.2005\n",
      "Epoch 99/100\n",
      "7155/7155 [==============================] - 28s 4ms/step - loss: 0.1579 - acc: 0.9648 - val_loss: 4.5313 - val_acc: 0.1969\n",
      "Epoch 100/100\n",
      "7155/7155 [==============================] - 28s 4ms/step - loss: 0.1631 - acc: 0.9642 - val_loss: 4.5205 - val_acc: 0.1995\n"
     ]
    }
   ],
   "source": [
    "model.fit(X_train, Y_train,\n",
    "          epochs=epochs,\n",
    "          batch_size = batchSize,\n",
    "          validation_data=(X_valid, Y_valid),\n",
    "          verbose=1,\n",
    "          callbacks=callbacks_list)\n",
    "model.save(modelPath);\n",
    "# steps_per_epoch = round(X_train.shape[0]/batchSize)\n",
    "# model.fit_generator(generator(X_train,Y_train,batchSize),\n",
    "#                    steps_per_epoch=steps_per_epoch,\n",
    "#                    epochs=epochs,\n",
    "#                    verbose=1,\n",
    "#                    callbacks=callbacks_list,\n",
    "#                    validation_data=(X_valid,Y_valid),\n",
    "#                    workers=workers,\n",
    "#                    use_multiprocessing=True)"
   ]
  },
  {
   "cell_type": "markdown",
   "metadata": {},
   "source": [
    "Remember, accuracy is low here because we are not taking advantage of the pre-trained weights as they cannot be downloaded in the kernel. This means we are training the wights from scratch and I we have only run 1 epoch due to the hardware constraints in the kernel.\n",
    "\n",
    "Next we will make our predictions."
   ]
  },
  {
   "cell_type": "code",
   "execution_count": 18,
   "metadata": {},
   "outputs": [],
   "source": [
    "# preds = model.predict(x_test, verbose=1)"
   ]
  },
  {
   "cell_type": "code",
   "execution_count": 19,
   "metadata": {},
   "outputs": [],
   "source": [
    "# sub = pd.DataFrame(preds)\n",
    "# # Set column names to those generated by the one-hot encoding earlier\n",
    "# col_names = one_hot.columns.values\n",
    "# sub.columns = col_names\n",
    "# # Insert the column id from the sample_submission at the start of the data frame\n",
    "# sub.insert(0, 'id', df_test['id'])\n",
    "# sub.head(10)"
   ]
  }
 ],
 "metadata": {
  "kernelspec": {
   "display_name": "Python 3",
   "language": "python",
   "name": "python3"
  },
  "language_info": {
   "codemirror_mode": {
    "name": "ipython",
    "version": 3
   },
   "file_extension": ".py",
   "mimetype": "text/x-python",
   "name": "python",
   "nbconvert_exporter": "python",
   "pygments_lexer": "ipython3",
   "version": "3.5.2"
  }
 },
 "nbformat": 4,
 "nbformat_minor": 2
}
