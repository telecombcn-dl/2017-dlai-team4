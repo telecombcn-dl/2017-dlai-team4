{
 "cells": [
  {
   "cell_type": "code",
   "execution_count": 1,
   "metadata": {},
   "outputs": [
    {
     "name": "stderr",
     "output_type": "stream",
     "text": [
      "Using TensorFlow backend.\n"
     ]
    },
    {
     "name": "stdout",
     "output_type": "stream",
     "text": [
      "labels.csv\n",
      "sample_submission.csv\n",
      "test\n",
      "train\n",
      "\n"
     ]
    }
   ],
   "source": [
    "# This Python 3 environment comes with many helpful analytics libraries installed\n",
    "# It is defined by the kaggle/python docker image: https://github.com/kaggle/docker-python\n",
    "# For example, here's several helpful packages to load in \n",
    "import numpy as np # linear algebra\n",
    "import pandas as pd # data processing, CSV file I/O (e.g. pd.read_csv)\n",
    "import keras\n",
    "from keras.applications.vgg19 import VGG19\n",
    "from keras.models import Model\n",
    "from keras.layers import Dense, Dropout, Flatten\n",
    "\n",
    "import random\n",
    "import os\n",
    "from tqdm import tqdm\n",
    "from sklearn import preprocessing\n",
    "from sklearn.model_selection import train_test_split\n",
    "import cv2\n",
    "# Input data files are available in the \"../input/\" directory.\n",
    "# For example, running this (by clicking run or pressing Shift+Enter) will list the files in the input directory\n",
    "\n",
    "from subprocess import check_output\n",
    "print(check_output([\"ls\", \"../input\"]).decode(\"utf8\"))\n",
    "\n",
    "# Any results you write to the current directory are saved as output."
   ]
  },
  {
   "cell_type": "code",
   "execution_count": 21,
   "metadata": {},
   "outputs": [],
   "source": [
    "# parameters\n",
    "tensorboard_dir = '../tb/run4';\n",
    "tensorboardFlag = True;\n",
    "workers = 10;\n",
    "\n",
    "batchSize = 64;\n",
    "epochs = 5;\n",
    "validation_size=0.3;"
   ]
  },
  {
   "cell_type": "markdown",
   "metadata": {},
   "source": [
    "First we will read in the csv's so we can see some more information on the filenames and breeds"
   ]
  },
  {
   "cell_type": "code",
   "execution_count": 3,
   "metadata": {},
   "outputs": [
    {
     "name": "stdout",
     "output_type": "stream",
     "text": [
      "Training images:  10222\n",
      "Test images:  10357\n"
     ]
    }
   ],
   "source": [
    "df_train = pd.read_csv('../input/labels.csv')\n",
    "df_test = pd.read_csv('../input/sample_submission.csv')\n",
    "\n",
    "print('Training images: ',df_train.shape[0])\n",
    "print('Test images: ',df_test.shape[0])\n",
    "\n",
    "# reduce dimensionality\n",
    "#df_train = df_train.head(100)\n",
    "#df_test = df_test.head(100)"
   ]
  },
  {
   "cell_type": "code",
   "execution_count": 4,
   "metadata": {},
   "outputs": [
    {
     "data": {
      "text/html": [
       "<div>\n",
       "<style scoped>\n",
       "    .dataframe tbody tr th:only-of-type {\n",
       "        vertical-align: middle;\n",
       "    }\n",
       "\n",
       "    .dataframe tbody tr th {\n",
       "        vertical-align: top;\n",
       "    }\n",
       "\n",
       "    .dataframe thead th {\n",
       "        text-align: right;\n",
       "    }\n",
       "</style>\n",
       "<table border=\"1\" class=\"dataframe\">\n",
       "  <thead>\n",
       "    <tr style=\"text-align: right;\">\n",
       "      <th></th>\n",
       "      <th>id</th>\n",
       "      <th>breed</th>\n",
       "    </tr>\n",
       "  </thead>\n",
       "  <tbody>\n",
       "    <tr>\n",
       "      <th>0</th>\n",
       "      <td>000bec180eb18c7604dcecc8fe0dba07</td>\n",
       "      <td>boston_bull</td>\n",
       "    </tr>\n",
       "    <tr>\n",
       "      <th>1</th>\n",
       "      <td>001513dfcb2ffafc82cccf4d8bbaba97</td>\n",
       "      <td>dingo</td>\n",
       "    </tr>\n",
       "    <tr>\n",
       "      <th>2</th>\n",
       "      <td>001cdf01b096e06d78e9e5112d419397</td>\n",
       "      <td>pekinese</td>\n",
       "    </tr>\n",
       "    <tr>\n",
       "      <th>3</th>\n",
       "      <td>00214f311d5d2247d5dfe4fe24b2303d</td>\n",
       "      <td>bluetick</td>\n",
       "    </tr>\n",
       "    <tr>\n",
       "      <th>4</th>\n",
       "      <td>0021f9ceb3235effd7fcde7f7538ed62</td>\n",
       "      <td>golden_retriever</td>\n",
       "    </tr>\n",
       "    <tr>\n",
       "      <th>5</th>\n",
       "      <td>002211c81b498ef88e1b40b9abf84e1d</td>\n",
       "      <td>bedlington_terrier</td>\n",
       "    </tr>\n",
       "    <tr>\n",
       "      <th>6</th>\n",
       "      <td>00290d3e1fdd27226ba27a8ce248ce85</td>\n",
       "      <td>bedlington_terrier</td>\n",
       "    </tr>\n",
       "    <tr>\n",
       "      <th>7</th>\n",
       "      <td>002a283a315af96eaea0e28e7163b21b</td>\n",
       "      <td>borzoi</td>\n",
       "    </tr>\n",
       "    <tr>\n",
       "      <th>8</th>\n",
       "      <td>003df8b8a8b05244b1d920bb6cf451f9</td>\n",
       "      <td>basenji</td>\n",
       "    </tr>\n",
       "    <tr>\n",
       "      <th>9</th>\n",
       "      <td>0042188c895a2f14ef64a918ed9c7b64</td>\n",
       "      <td>scottish_deerhound</td>\n",
       "    </tr>\n",
       "  </tbody>\n",
       "</table>\n",
       "</div>"
      ],
      "text/plain": [
       "                                 id               breed\n",
       "0  000bec180eb18c7604dcecc8fe0dba07         boston_bull\n",
       "1  001513dfcb2ffafc82cccf4d8bbaba97               dingo\n",
       "2  001cdf01b096e06d78e9e5112d419397            pekinese\n",
       "3  00214f311d5d2247d5dfe4fe24b2303d            bluetick\n",
       "4  0021f9ceb3235effd7fcde7f7538ed62    golden_retriever\n",
       "5  002211c81b498ef88e1b40b9abf84e1d  bedlington_terrier\n",
       "6  00290d3e1fdd27226ba27a8ce248ce85  bedlington_terrier\n",
       "7  002a283a315af96eaea0e28e7163b21b              borzoi\n",
       "8  003df8b8a8b05244b1d920bb6cf451f9             basenji\n",
       "9  0042188c895a2f14ef64a918ed9c7b64  scottish_deerhound"
      ]
     },
     "execution_count": 4,
     "metadata": {},
     "output_type": "execute_result"
    }
   ],
   "source": [
    "df_train.head(10)"
   ]
  },
  {
   "cell_type": "markdown",
   "metadata": {},
   "source": [
    "We can see that the breed needs to be one-hot encoded for the final submission, so we will now do this."
   ]
  },
  {
   "cell_type": "code",
   "execution_count": 5,
   "metadata": {},
   "outputs": [],
   "source": [
    "targets_series = pd.Series(df_train['breed'])\n",
    "one_hot = pd.get_dummies(targets_series, sparse = True)"
   ]
  },
  {
   "cell_type": "code",
   "execution_count": 6,
   "metadata": {},
   "outputs": [],
   "source": [
    "one_hot_labels = np.asarray(one_hot)"
   ]
  },
  {
   "cell_type": "markdown",
   "metadata": {},
   "source": [
    "Next we will read in all of the images for test and train, using a for loop through the values of the csv files. I have also set an im_size variable which sets the size for the image to be re-sized to, 90x90 px, you should play with this number to see how it affects accuracy."
   ]
  },
  {
   "cell_type": "code",
   "execution_count": 7,
   "metadata": {},
   "outputs": [],
   "source": [
    "im_size = 90"
   ]
  },
  {
   "cell_type": "code",
   "execution_count": 8,
   "metadata": {},
   "outputs": [],
   "source": [
    "x_train = []\n",
    "y_train = []\n",
    "x_test = []"
   ]
  },
  {
   "cell_type": "code",
   "execution_count": 9,
   "metadata": {},
   "outputs": [
    {
     "name": "stderr",
     "output_type": "stream",
     "text": [
      "100%|██████████| 10222/10222 [00:31<00:00, 328.85it/s]\n"
     ]
    }
   ],
   "source": [
    "i = 0 \n",
    "for f, breed in tqdm(df_train.values):\n",
    "    img = cv2.imread('../input/train/{}.jpg'.format(f))\n",
    "    label = one_hot_labels[i]\n",
    "    x_train.append(cv2.resize(img, (im_size, im_size)))\n",
    "    y_train.append(label)\n",
    "    i += 1"
   ]
  },
  {
   "cell_type": "code",
   "execution_count": 10,
   "metadata": {},
   "outputs": [
    {
     "name": "stderr",
     "output_type": "stream",
     "text": [
      "100%|██████████| 10357/10357 [00:30<00:00, 337.61it/s]\n"
     ]
    }
   ],
   "source": [
    "for f in tqdm(df_test['id'].values):\n",
    "    img = cv2.imread('../input/test/{}.jpg'.format(f))\n",
    "    x_test.append(cv2.resize(img, (im_size, im_size)))"
   ]
  },
  {
   "cell_type": "code",
   "execution_count": 11,
   "metadata": {},
   "outputs": [],
   "source": [
    "y_train_raw = np.array(y_train, np.uint8)\n",
    "x_train_raw = np.array(x_train, np.float32) / 255.\n",
    "x_test  = np.array(x_test, np.float32) / 255."
   ]
  },
  {
   "cell_type": "markdown",
   "metadata": {},
   "source": [
    "We check the shape of the outputs to make sure everyting went as expected."
   ]
  },
  {
   "cell_type": "code",
   "execution_count": 12,
   "metadata": {},
   "outputs": [
    {
     "name": "stdout",
     "output_type": "stream",
     "text": [
      "(10222, 90, 90, 3)\n",
      "(10222, 120)\n",
      "(10357, 90, 90, 3)\n"
     ]
    }
   ],
   "source": [
    "print(x_train_raw.shape)\n",
    "print(y_train_raw.shape)\n",
    "print(x_test.shape)"
   ]
  },
  {
   "cell_type": "markdown",
   "metadata": {},
   "source": [
    "We can see above that there are 120 different breeds. We can put this in a num_class variable below that can then be used when creating the CNN model."
   ]
  },
  {
   "cell_type": "code",
   "execution_count": 13,
   "metadata": {},
   "outputs": [
    {
     "name": "stdout",
     "output_type": "stream",
     "text": [
      "Number of classes:  120\n"
     ]
    }
   ],
   "source": [
    "num_class = y_train_raw.shape[1]\n",
    "print('Number of classes: ', num_class)"
   ]
  },
  {
   "cell_type": "markdown",
   "metadata": {},
   "source": [
    "It is important to create a validation set so that you can gauge the performance of your model on independent data, unseen to the model in training. We do this by splitting the current training set (x_train_raw) and the corresponding labels (y_train_raw) so that we set aside 30 % of the data at random and put these in validation sets (X_valid and Y_valid).\n",
    "\n",
    "* This split needs to be improved so that it contains images from every class, with 120 separate classes some can not be represented and so the validation score is not informative."
   ]
  },
  {
   "cell_type": "code",
   "execution_count": 14,
   "metadata": {},
   "outputs": [],
   "source": [
    "X_train, X_valid, Y_train, Y_valid = train_test_split(x_train_raw, y_train_raw, test_size=validation_size, random_state=1)"
   ]
  },
  {
   "cell_type": "markdown",
   "metadata": {},
   "source": [
    "Now we build the CNN architecture. Here we are using a pre-trained model VGG19 which has already been trained to identify many different dog breeds (as well as a lot of other objects from the imagenet dataset see here for more information: http://image-net.org/about-overview). Unfortunately it doesn't seem possible to downlod the weights from within this kernel so make sure you set the weights argument to 'imagenet' and not None, as it currently is below.\n",
    "\n",
    "We then remove the final layer and instead replace it with a single dense layer with the number of nodes corresponding to the number of breed classes we have (120)."
   ]
  },
  {
   "cell_type": "code",
   "execution_count": 15,
   "metadata": {},
   "outputs": [
    {
     "name": "stdout",
     "output_type": "stream",
     "text": [
      "Tensorboard activated\n",
      "_________________________________________________________________\n",
      "Layer (type)                 Output Shape              Param #   \n",
      "=================================================================\n",
      "input_1 (InputLayer)         (None, 90, 90, 3)         0         \n",
      "_________________________________________________________________\n",
      "block1_conv1 (Conv2D)        (None, 90, 90, 64)        1792      \n",
      "_________________________________________________________________\n",
      "block1_conv2 (Conv2D)        (None, 90, 90, 64)        36928     \n",
      "_________________________________________________________________\n",
      "block1_pool (MaxPooling2D)   (None, 45, 45, 64)        0         \n",
      "_________________________________________________________________\n",
      "block2_conv1 (Conv2D)        (None, 45, 45, 128)       73856     \n",
      "_________________________________________________________________\n",
      "block2_conv2 (Conv2D)        (None, 45, 45, 128)       147584    \n",
      "_________________________________________________________________\n",
      "block2_pool (MaxPooling2D)   (None, 22, 22, 128)       0         \n",
      "_________________________________________________________________\n",
      "block3_conv1 (Conv2D)        (None, 22, 22, 256)       295168    \n",
      "_________________________________________________________________\n",
      "block3_conv2 (Conv2D)        (None, 22, 22, 256)       590080    \n",
      "_________________________________________________________________\n",
      "block3_conv3 (Conv2D)        (None, 22, 22, 256)       590080    \n",
      "_________________________________________________________________\n",
      "block3_conv4 (Conv2D)        (None, 22, 22, 256)       590080    \n",
      "_________________________________________________________________\n",
      "block3_pool (MaxPooling2D)   (None, 11, 11, 256)       0         \n",
      "_________________________________________________________________\n",
      "block4_conv1 (Conv2D)        (None, 11, 11, 512)       1180160   \n",
      "_________________________________________________________________\n",
      "block4_conv2 (Conv2D)        (None, 11, 11, 512)       2359808   \n",
      "_________________________________________________________________\n",
      "block4_conv3 (Conv2D)        (None, 11, 11, 512)       2359808   \n",
      "_________________________________________________________________\n",
      "block4_conv4 (Conv2D)        (None, 11, 11, 512)       2359808   \n",
      "_________________________________________________________________\n",
      "block4_pool (MaxPooling2D)   (None, 5, 5, 512)         0         \n",
      "_________________________________________________________________\n",
      "block5_conv1 (Conv2D)        (None, 5, 5, 512)         2359808   \n",
      "_________________________________________________________________\n",
      "block5_conv2 (Conv2D)        (None, 5, 5, 512)         2359808   \n",
      "_________________________________________________________________\n",
      "block5_conv3 (Conv2D)        (None, 5, 5, 512)         2359808   \n",
      "_________________________________________________________________\n",
      "block5_conv4 (Conv2D)        (None, 5, 5, 512)         2359808   \n",
      "_________________________________________________________________\n",
      "block5_pool (MaxPooling2D)   (None, 2, 2, 512)         0         \n",
      "_________________________________________________________________\n",
      "flatten_1 (Flatten)          (None, 2048)              0         \n",
      "_________________________________________________________________\n",
      "dense_1 (Dense)              (None, 120)               245880    \n",
      "=================================================================\n",
      "Total params: 20,270,264\n",
      "Trainable params: 245,880\n",
      "Non-trainable params: 20,024,384\n",
      "_________________________________________________________________\n"
     ]
    }
   ],
   "source": [
    "# Create the base pre-trained model\n",
    "# Can't download weights in the kernel\n",
    "base_model = VGG19(#weights='imagenet',\n",
    "    weights = 'imagenet', include_top=False, input_shape=(im_size, im_size, 3))\n",
    "\n",
    "# Add a new top layer\n",
    "x = base_model.output\n",
    "x = Flatten()(x)\n",
    "predictions = Dense(num_class, activation='softmax')(x)\n",
    "\n",
    "# This is the model we will train\n",
    "model = Model(inputs=base_model.input, outputs=predictions)\n",
    "\n",
    "# First: train only the top layers (which were randomly initialized)\n",
    "for layer in base_model.layers:\n",
    "    layer.trainable = False\n",
    "\n",
    "model.compile(loss='categorical_crossentropy', \n",
    "              optimizer='adam', \n",
    "              metrics=['accuracy'])\n",
    "\n",
    "callbacks_list = [];\n",
    "callbacks_list.append(keras.callbacks.EarlyStopping(\n",
    "    monitor='val_acc',\n",
    "    patience=10,\n",
    "    verbose=1));\n",
    "if tensorboardFlag:\n",
    "    callbacks_list.append(keras.callbacks.TensorBoard(\n",
    "            log_dir=tensorboard_dir,\n",
    "            histogram_freq=5,\n",
    "            write_graph=False,\n",
    "            write_images=False));\n",
    "    print('Tensorboard activated')\n",
    "else:\n",
    "    print('Tensorboard NOT activated')\n",
    "\n",
    "\n",
    "model.summary()"
   ]
  },
  {
   "cell_type": "code",
   "execution_count": 16,
   "metadata": {},
   "outputs": [],
   "source": [
    "def generator(X,Y,batch_size):\n",
    "    batch_features = np.ndarray(shape=(batch_size,) + X.shape[1:],\n",
    "                                dtype=X.dtype);\n",
    "    batch_labels = np.ndarray(shape=(batch_size,) + Y.shape[1:],\n",
    "                                dtype=Y.dtype)\n",
    "    N = X.shape[0];\n",
    "    \n",
    "    while True:\n",
    "        for i in range(batch_size):\n",
    "            # choose random index in features\n",
    "            index= np.random.choice(N,1)\n",
    "            batch_features[i] = X[index]\n",
    "            batch_labels[i] = Y[index]\n",
    "        yield batch_features, batch_labels"
   ]
  },
  {
   "cell_type": "code",
   "execution_count": 22,
   "metadata": {},
   "outputs": [
    {
     "name": "stderr",
     "output_type": "stream",
     "text": [
      "/home/mattia-lecci/venv_project/lib/python3.5/site-packages/keras/engine/training.py:2057: UserWarning: Using a generator with `use_multiprocessing=True` and multiple workers may duplicate your data. Please consider using the`keras.utils.Sequence class.\n",
      "  UserWarning('Using a generator with `use_multiprocessing=True`'\n"
     ]
    },
    {
     "name": "stdout",
     "output_type": "stream",
     "text": [
      "Epoch 1/5\n",
      "112/112 [==============================] - 326s 3s/step - loss: 2.9173 - acc: 0.3749 - val_loss: 4.0691 - val_acc: 0.1187\n",
      "Epoch 2/5\n",
      "112/112 [==============================] - 27s 238ms/step - loss: 2.6647 - acc: 0.4325 - val_loss: 4.0375 - val_acc: 0.1141\n",
      "Epoch 3/5\n",
      "112/112 [==============================] - 27s 237ms/step - loss: 2.4733 - acc: 0.4831 - val_loss: 4.0382 - val_acc: 0.1089\n",
      "Epoch 4/5\n",
      "112/112 [==============================] - 27s 237ms/step - loss: 2.2769 - acc: 0.5307 - val_loss: 4.0325 - val_acc: 0.1291\n",
      "Epoch 5/5\n",
      "112/112 [==============================] - 27s 237ms/step - loss: 2.1328 - acc: 0.5686 - val_loss: 4.0207 - val_acc: 0.1275\n"
     ]
    },
    {
     "data": {
      "text/plain": [
       "<keras.callbacks.History at 0x7fe20bb32c88>"
      ]
     },
     "execution_count": 22,
     "metadata": {},
     "output_type": "execute_result"
    }
   ],
   "source": [
    "#model.fit(X_train, Y_train,\n",
    "#          epochs=epochs,\n",
    "#          batch_size = batchSize,\n",
    "#          validation_data=(X_valid, Y_valid),\n",
    "#          verbose=1,\n",
    "#          callbacks=callbacks_list)\n",
    "steps_per_epoch = round(X_train.shape[0]/batchSize)\n",
    "\n",
    "model.fit_generator(generator(X_train,Y_train,batchSize),\n",
    "                   steps_per_epoch=steps_per_epoch,\n",
    "                   epochs=epochs,\n",
    "                   verbose=1,\n",
    "                   callbacks=callbacks_list,\n",
    "                   validation_data=(X_valid,Y_valid),\n",
    "                   workers=workers,\n",
    "                   use_multiprocessing=True)"
   ]
  },
  {
   "cell_type": "markdown",
   "metadata": {},
   "source": [
    "Remember, accuracy is low here because we are not taking advantage of the pre-trained weights as they cannot be downloaded in the kernel. This means we are training the wights from scratch and I we have only run 1 epoch due to the hardware constraints in the kernel.\n",
    "\n",
    "Next we will make our predictions."
   ]
  },
  {
   "cell_type": "code",
   "execution_count": 23,
   "metadata": {},
   "outputs": [
    {
     "name": "stdout",
     "output_type": "stream",
     "text": [
      "10357/10357 [==============================] - 29s 3ms/step\n"
     ]
    }
   ],
   "source": [
    "preds = model.predict(x_test, verbose=1)"
   ]
  },
  {
   "cell_type": "code",
   "execution_count": 24,
   "metadata": {},
   "outputs": [
    {
     "data": {
      "text/html": [
       "<div>\n",
       "<style scoped>\n",
       "    .dataframe tbody tr th:only-of-type {\n",
       "        vertical-align: middle;\n",
       "    }\n",
       "\n",
       "    .dataframe tbody tr th {\n",
       "        vertical-align: top;\n",
       "    }\n",
       "\n",
       "    .dataframe thead th {\n",
       "        text-align: right;\n",
       "    }\n",
       "</style>\n",
       "<table border=\"1\" class=\"dataframe\">\n",
       "  <thead>\n",
       "    <tr style=\"text-align: right;\">\n",
       "      <th></th>\n",
       "      <th>id</th>\n",
       "      <th>affenpinscher</th>\n",
       "      <th>afghan_hound</th>\n",
       "      <th>african_hunting_dog</th>\n",
       "      <th>airedale</th>\n",
       "      <th>american_staffordshire_terrier</th>\n",
       "      <th>appenzeller</th>\n",
       "      <th>australian_terrier</th>\n",
       "      <th>basenji</th>\n",
       "      <th>basset</th>\n",
       "      <th>...</th>\n",
       "      <th>toy_poodle</th>\n",
       "      <th>toy_terrier</th>\n",
       "      <th>vizsla</th>\n",
       "      <th>walker_hound</th>\n",
       "      <th>weimaraner</th>\n",
       "      <th>welsh_springer_spaniel</th>\n",
       "      <th>west_highland_white_terrier</th>\n",
       "      <th>whippet</th>\n",
       "      <th>wire-haired_fox_terrier</th>\n",
       "      <th>yorkshire_terrier</th>\n",
       "    </tr>\n",
       "  </thead>\n",
       "  <tbody>\n",
       "    <tr>\n",
       "      <th>0</th>\n",
       "      <td>000621fb3cbb32d8935728e48679680e</td>\n",
       "      <td>7.283219e-06</td>\n",
       "      <td>5.159800e-03</td>\n",
       "      <td>1.680854e-05</td>\n",
       "      <td>0.000019</td>\n",
       "      <td>0.003696</td>\n",
       "      <td>0.000145</td>\n",
       "      <td>0.000060</td>\n",
       "      <td>0.001805</td>\n",
       "      <td>2.860163e-02</td>\n",
       "      <td>...</td>\n",
       "      <td>4.710769e-04</td>\n",
       "      <td>0.000434</td>\n",
       "      <td>6.021040e-05</td>\n",
       "      <td>5.213224e-04</td>\n",
       "      <td>3.486446e-02</td>\n",
       "      <td>0.215926</td>\n",
       "      <td>0.000001</td>\n",
       "      <td>3.744449e-03</td>\n",
       "      <td>0.000107</td>\n",
       "      <td>0.000034</td>\n",
       "    </tr>\n",
       "    <tr>\n",
       "      <th>1</th>\n",
       "      <td>00102ee9d8eb90812350685311fe5890</td>\n",
       "      <td>5.072772e-04</td>\n",
       "      <td>3.275320e-03</td>\n",
       "      <td>1.299841e-04</td>\n",
       "      <td>0.000086</td>\n",
       "      <td>0.000788</td>\n",
       "      <td>0.000133</td>\n",
       "      <td>0.001052</td>\n",
       "      <td>0.000211</td>\n",
       "      <td>3.616280e-04</td>\n",
       "      <td>...</td>\n",
       "      <td>5.975930e-03</td>\n",
       "      <td>0.007185</td>\n",
       "      <td>1.706774e-05</td>\n",
       "      <td>6.517411e-05</td>\n",
       "      <td>9.465597e-04</td>\n",
       "      <td>0.000892</td>\n",
       "      <td>0.004254</td>\n",
       "      <td>7.930796e-04</td>\n",
       "      <td>0.004599</td>\n",
       "      <td>0.000427</td>\n",
       "    </tr>\n",
       "    <tr>\n",
       "      <th>2</th>\n",
       "      <td>0012a730dfa437f5f3613fb75efcd4ce</td>\n",
       "      <td>3.399096e-04</td>\n",
       "      <td>1.962730e-03</td>\n",
       "      <td>5.590480e-04</td>\n",
       "      <td>0.010398</td>\n",
       "      <td>0.002965</td>\n",
       "      <td>0.016164</td>\n",
       "      <td>0.000981</td>\n",
       "      <td>0.045377</td>\n",
       "      <td>6.086941e-03</td>\n",
       "      <td>...</td>\n",
       "      <td>8.006244e-04</td>\n",
       "      <td>0.007229</td>\n",
       "      <td>4.533662e-04</td>\n",
       "      <td>4.399455e-03</td>\n",
       "      <td>1.497823e-02</td>\n",
       "      <td>0.006038</td>\n",
       "      <td>0.005092</td>\n",
       "      <td>2.784549e-02</td>\n",
       "      <td>0.004651</td>\n",
       "      <td>0.001340</td>\n",
       "    </tr>\n",
       "    <tr>\n",
       "      <th>3</th>\n",
       "      <td>001510bc8570bbeee98c8d80c8a95ec1</td>\n",
       "      <td>3.256522e-03</td>\n",
       "      <td>8.096942e-03</td>\n",
       "      <td>7.001467e-04</td>\n",
       "      <td>0.019202</td>\n",
       "      <td>0.002568</td>\n",
       "      <td>0.016908</td>\n",
       "      <td>0.003874</td>\n",
       "      <td>0.044180</td>\n",
       "      <td>2.581268e-04</td>\n",
       "      <td>...</td>\n",
       "      <td>4.127896e-04</td>\n",
       "      <td>0.000930</td>\n",
       "      <td>1.245752e-04</td>\n",
       "      <td>8.357690e-05</td>\n",
       "      <td>7.694110e-04</td>\n",
       "      <td>0.000778</td>\n",
       "      <td>0.000078</td>\n",
       "      <td>1.847809e-02</td>\n",
       "      <td>0.000520</td>\n",
       "      <td>0.001965</td>\n",
       "    </tr>\n",
       "    <tr>\n",
       "      <th>4</th>\n",
       "      <td>001a5f3114548acdefa3d4da05474c2e</td>\n",
       "      <td>4.359524e-03</td>\n",
       "      <td>8.033515e-03</td>\n",
       "      <td>5.733996e-03</td>\n",
       "      <td>0.021665</td>\n",
       "      <td>0.008522</td>\n",
       "      <td>0.001473</td>\n",
       "      <td>0.010801</td>\n",
       "      <td>0.000860</td>\n",
       "      <td>4.135124e-03</td>\n",
       "      <td>...</td>\n",
       "      <td>8.335645e-04</td>\n",
       "      <td>0.000628</td>\n",
       "      <td>2.454243e-04</td>\n",
       "      <td>1.543871e-04</td>\n",
       "      <td>1.210303e-02</td>\n",
       "      <td>0.000174</td>\n",
       "      <td>0.000352</td>\n",
       "      <td>5.828367e-03</td>\n",
       "      <td>0.003394</td>\n",
       "      <td>0.000966</td>\n",
       "    </tr>\n",
       "    <tr>\n",
       "      <th>5</th>\n",
       "      <td>00225dcd3e4d2410dd53239f95c0352f</td>\n",
       "      <td>6.357942e-06</td>\n",
       "      <td>2.115214e-02</td>\n",
       "      <td>9.138526e-05</td>\n",
       "      <td>0.000639</td>\n",
       "      <td>0.000652</td>\n",
       "      <td>0.000005</td>\n",
       "      <td>0.001635</td>\n",
       "      <td>0.002837</td>\n",
       "      <td>1.379738e-02</td>\n",
       "      <td>...</td>\n",
       "      <td>2.282886e-03</td>\n",
       "      <td>0.001823</td>\n",
       "      <td>1.587006e-04</td>\n",
       "      <td>7.666910e-03</td>\n",
       "      <td>8.481338e-03</td>\n",
       "      <td>0.008367</td>\n",
       "      <td>0.000227</td>\n",
       "      <td>3.740757e-02</td>\n",
       "      <td>0.001545</td>\n",
       "      <td>0.000319</td>\n",
       "    </tr>\n",
       "    <tr>\n",
       "      <th>6</th>\n",
       "      <td>002c2a3117c2193b4d26400ce431eebd</td>\n",
       "      <td>2.760198e-03</td>\n",
       "      <td>1.036627e-02</td>\n",
       "      <td>4.684896e-03</td>\n",
       "      <td>0.008145</td>\n",
       "      <td>0.002332</td>\n",
       "      <td>0.004590</td>\n",
       "      <td>0.056360</td>\n",
       "      <td>0.009223</td>\n",
       "      <td>4.053432e-04</td>\n",
       "      <td>...</td>\n",
       "      <td>8.365962e-04</td>\n",
       "      <td>0.013964</td>\n",
       "      <td>1.291825e-03</td>\n",
       "      <td>2.209602e-03</td>\n",
       "      <td>2.325887e-03</td>\n",
       "      <td>0.016920</td>\n",
       "      <td>0.006088</td>\n",
       "      <td>8.215307e-04</td>\n",
       "      <td>0.003276</td>\n",
       "      <td>0.029907</td>\n",
       "    </tr>\n",
       "    <tr>\n",
       "      <th>7</th>\n",
       "      <td>002c58d413a521ae8d1a5daeb35fc803</td>\n",
       "      <td>5.354577e-08</td>\n",
       "      <td>4.390910e-07</td>\n",
       "      <td>2.701080e-09</td>\n",
       "      <td>0.000001</td>\n",
       "      <td>0.000193</td>\n",
       "      <td>0.000001</td>\n",
       "      <td>0.000763</td>\n",
       "      <td>0.000125</td>\n",
       "      <td>5.770060e-08</td>\n",
       "      <td>...</td>\n",
       "      <td>6.654978e-07</td>\n",
       "      <td>0.000002</td>\n",
       "      <td>1.552045e-11</td>\n",
       "      <td>4.057651e-08</td>\n",
       "      <td>2.089024e-10</td>\n",
       "      <td>0.000003</td>\n",
       "      <td>0.077765</td>\n",
       "      <td>2.873224e-07</td>\n",
       "      <td>0.023920</td>\n",
       "      <td>0.000067</td>\n",
       "    </tr>\n",
       "    <tr>\n",
       "      <th>8</th>\n",
       "      <td>002f80396f1e3db687c5932d7978b196</td>\n",
       "      <td>7.752546e-04</td>\n",
       "      <td>1.544805e-03</td>\n",
       "      <td>2.398138e-02</td>\n",
       "      <td>0.013118</td>\n",
       "      <td>0.006337</td>\n",
       "      <td>0.001520</td>\n",
       "      <td>0.005562</td>\n",
       "      <td>0.002427</td>\n",
       "      <td>2.008065e-03</td>\n",
       "      <td>...</td>\n",
       "      <td>4.853016e-04</td>\n",
       "      <td>0.000421</td>\n",
       "      <td>3.891230e-04</td>\n",
       "      <td>3.111624e-04</td>\n",
       "      <td>1.954083e-02</td>\n",
       "      <td>0.003258</td>\n",
       "      <td>0.000946</td>\n",
       "      <td>1.096395e-02</td>\n",
       "      <td>0.000953</td>\n",
       "      <td>0.001894</td>\n",
       "    </tr>\n",
       "    <tr>\n",
       "      <th>9</th>\n",
       "      <td>0036c6bcec6031be9e62a257b1c3c442</td>\n",
       "      <td>5.019853e-04</td>\n",
       "      <td>5.308604e-04</td>\n",
       "      <td>8.655255e-04</td>\n",
       "      <td>0.000174</td>\n",
       "      <td>0.001329</td>\n",
       "      <td>0.002169</td>\n",
       "      <td>0.000409</td>\n",
       "      <td>0.000207</td>\n",
       "      <td>2.069571e-03</td>\n",
       "      <td>...</td>\n",
       "      <td>6.965097e-05</td>\n",
       "      <td>0.000121</td>\n",
       "      <td>2.512516e-04</td>\n",
       "      <td>1.849740e-03</td>\n",
       "      <td>3.058268e-01</td>\n",
       "      <td>0.001205</td>\n",
       "      <td>0.000011</td>\n",
       "      <td>2.365966e-04</td>\n",
       "      <td>0.000115</td>\n",
       "      <td>0.000252</td>\n",
       "    </tr>\n",
       "  </tbody>\n",
       "</table>\n",
       "<p>10 rows × 121 columns</p>\n",
       "</div>"
      ],
      "text/plain": [
       "                                 id  affenpinscher  afghan_hound  \\\n",
       "0  000621fb3cbb32d8935728e48679680e   7.283219e-06  5.159800e-03   \n",
       "1  00102ee9d8eb90812350685311fe5890   5.072772e-04  3.275320e-03   \n",
       "2  0012a730dfa437f5f3613fb75efcd4ce   3.399096e-04  1.962730e-03   \n",
       "3  001510bc8570bbeee98c8d80c8a95ec1   3.256522e-03  8.096942e-03   \n",
       "4  001a5f3114548acdefa3d4da05474c2e   4.359524e-03  8.033515e-03   \n",
       "5  00225dcd3e4d2410dd53239f95c0352f   6.357942e-06  2.115214e-02   \n",
       "6  002c2a3117c2193b4d26400ce431eebd   2.760198e-03  1.036627e-02   \n",
       "7  002c58d413a521ae8d1a5daeb35fc803   5.354577e-08  4.390910e-07   \n",
       "8  002f80396f1e3db687c5932d7978b196   7.752546e-04  1.544805e-03   \n",
       "9  0036c6bcec6031be9e62a257b1c3c442   5.019853e-04  5.308604e-04   \n",
       "\n",
       "   african_hunting_dog  airedale  american_staffordshire_terrier  appenzeller  \\\n",
       "0         1.680854e-05  0.000019                        0.003696     0.000145   \n",
       "1         1.299841e-04  0.000086                        0.000788     0.000133   \n",
       "2         5.590480e-04  0.010398                        0.002965     0.016164   \n",
       "3         7.001467e-04  0.019202                        0.002568     0.016908   \n",
       "4         5.733996e-03  0.021665                        0.008522     0.001473   \n",
       "5         9.138526e-05  0.000639                        0.000652     0.000005   \n",
       "6         4.684896e-03  0.008145                        0.002332     0.004590   \n",
       "7         2.701080e-09  0.000001                        0.000193     0.000001   \n",
       "8         2.398138e-02  0.013118                        0.006337     0.001520   \n",
       "9         8.655255e-04  0.000174                        0.001329     0.002169   \n",
       "\n",
       "   australian_terrier   basenji        basset        ...          \\\n",
       "0            0.000060  0.001805  2.860163e-02        ...           \n",
       "1            0.001052  0.000211  3.616280e-04        ...           \n",
       "2            0.000981  0.045377  6.086941e-03        ...           \n",
       "3            0.003874  0.044180  2.581268e-04        ...           \n",
       "4            0.010801  0.000860  4.135124e-03        ...           \n",
       "5            0.001635  0.002837  1.379738e-02        ...           \n",
       "6            0.056360  0.009223  4.053432e-04        ...           \n",
       "7            0.000763  0.000125  5.770060e-08        ...           \n",
       "8            0.005562  0.002427  2.008065e-03        ...           \n",
       "9            0.000409  0.000207  2.069571e-03        ...           \n",
       "\n",
       "     toy_poodle  toy_terrier        vizsla  walker_hound    weimaraner  \\\n",
       "0  4.710769e-04     0.000434  6.021040e-05  5.213224e-04  3.486446e-02   \n",
       "1  5.975930e-03     0.007185  1.706774e-05  6.517411e-05  9.465597e-04   \n",
       "2  8.006244e-04     0.007229  4.533662e-04  4.399455e-03  1.497823e-02   \n",
       "3  4.127896e-04     0.000930  1.245752e-04  8.357690e-05  7.694110e-04   \n",
       "4  8.335645e-04     0.000628  2.454243e-04  1.543871e-04  1.210303e-02   \n",
       "5  2.282886e-03     0.001823  1.587006e-04  7.666910e-03  8.481338e-03   \n",
       "6  8.365962e-04     0.013964  1.291825e-03  2.209602e-03  2.325887e-03   \n",
       "7  6.654978e-07     0.000002  1.552045e-11  4.057651e-08  2.089024e-10   \n",
       "8  4.853016e-04     0.000421  3.891230e-04  3.111624e-04  1.954083e-02   \n",
       "9  6.965097e-05     0.000121  2.512516e-04  1.849740e-03  3.058268e-01   \n",
       "\n",
       "   welsh_springer_spaniel  west_highland_white_terrier       whippet  \\\n",
       "0                0.215926                     0.000001  3.744449e-03   \n",
       "1                0.000892                     0.004254  7.930796e-04   \n",
       "2                0.006038                     0.005092  2.784549e-02   \n",
       "3                0.000778                     0.000078  1.847809e-02   \n",
       "4                0.000174                     0.000352  5.828367e-03   \n",
       "5                0.008367                     0.000227  3.740757e-02   \n",
       "6                0.016920                     0.006088  8.215307e-04   \n",
       "7                0.000003                     0.077765  2.873224e-07   \n",
       "8                0.003258                     0.000946  1.096395e-02   \n",
       "9                0.001205                     0.000011  2.365966e-04   \n",
       "\n",
       "   wire-haired_fox_terrier  yorkshire_terrier  \n",
       "0                 0.000107           0.000034  \n",
       "1                 0.004599           0.000427  \n",
       "2                 0.004651           0.001340  \n",
       "3                 0.000520           0.001965  \n",
       "4                 0.003394           0.000966  \n",
       "5                 0.001545           0.000319  \n",
       "6                 0.003276           0.029907  \n",
       "7                 0.023920           0.000067  \n",
       "8                 0.000953           0.001894  \n",
       "9                 0.000115           0.000252  \n",
       "\n",
       "[10 rows x 121 columns]"
      ]
     },
     "execution_count": 24,
     "metadata": {},
     "output_type": "execute_result"
    }
   ],
   "source": [
    "sub = pd.DataFrame(preds)\n",
    "# Set column names to those generated by the one-hot encoding earlier\n",
    "col_names = one_hot.columns.values\n",
    "sub.columns = col_names\n",
    "# Insert the column id from the sample_submission at the start of the data frame\n",
    "sub.insert(0, 'id', df_test['id'])\n",
    "sub.head(10)"
   ]
  }
 ],
 "metadata": {
  "kernelspec": {
   "display_name": "Python 3",
   "language": "python",
   "name": "python3"
  },
  "language_info": {
   "codemirror_mode": {
    "name": "ipython",
    "version": 3
   },
   "file_extension": ".py",
   "mimetype": "text/x-python",
   "name": "python",
   "nbconvert_exporter": "python",
   "pygments_lexer": "ipython3",
   "version": "3.5.2"
  }
 },
 "nbformat": 4,
 "nbformat_minor": 2
}
