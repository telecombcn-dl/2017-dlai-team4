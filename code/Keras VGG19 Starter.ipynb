{
 "cells": [
  {
   "cell_type": "code",
   "execution_count": 1,
   "metadata": {},
   "outputs": [
    {
     "name": "stderr",
     "output_type": "stream",
     "text": [
      "Using TensorFlow backend.\n"
     ]
    },
    {
     "name": "stdout",
     "output_type": "stream",
     "text": [
      "labels.csv\n",
      "sample_submission.csv\n",
      "test\n",
      "train\n",
      "\n"
     ]
    }
   ],
   "source": [
    "# This Python 3 environment comes with many helpful analytics libraries installed\n",
    "# It is defined by the kaggle/python docker image: https://github.com/kaggle/docker-python\n",
    "# For example, here's several helpful packages to load in \n",
    "import numpy as np # linear algebra\n",
    "import pandas as pd # data processing, CSV file I/O (e.g. pd.read_csv)\n",
    "import keras\n",
    "from keras.applications.vgg19 import VGG19\n",
    "from keras.models import Model\n",
    "from keras.layers import Dense, Dropout, Flatten\n",
    "\n",
    "import random\n",
    "import os\n",
    "from tqdm import tqdm\n",
    "from sklearn import preprocessing\n",
    "from sklearn.model_selection import train_test_split\n",
    "import cv2\n",
    "# Input data files are available in the \"../input/\" directory.\n",
    "# For example, running this (by clicking run or pressing Shift+Enter) will list the files in the input directory\n",
    "\n",
    "from subprocess import check_output\n",
    "print(check_output([\"ls\", \"../input\"]).decode(\"utf8\"))\n",
    "\n",
    "# Any results you write to the current directory are saved as output."
   ]
  },
  {
   "cell_type": "code",
   "execution_count": 21,
   "metadata": {},
   "outputs": [],
   "source": [
    "# parameters\n",
    "tensorboard_dir = '../tb/run6';\n",
    "tensorboardFlag = True;\n",
    "workers = 10;\n",
    "histogram_freq = 0;\n",
    "\n",
    "batchSize = 64;\n",
    "epochs = 10;\n",
    "validation_size=0.3;"
   ]
  },
  {
   "cell_type": "markdown",
   "metadata": {},
   "source": [
    "First we will read in the csv's so we can see some more information on the filenames and breeds"
   ]
  },
  {
   "cell_type": "code",
   "execution_count": 3,
   "metadata": {},
   "outputs": [
    {
     "name": "stdout",
     "output_type": "stream",
     "text": [
      "Training images:  10222\n",
      "Test images:  10357\n"
     ]
    }
   ],
   "source": [
    "df_train = pd.read_csv('../input/labels.csv')\n",
    "df_test = pd.read_csv('../input/sample_submission.csv')\n",
    "\n",
    "print('Training images: ',df_train.shape[0])\n",
    "print('Test images: ',df_test.shape[0])\n",
    "\n",
    "# reduce dimensionality\n",
    "#df_train = df_train.head(100)\n",
    "#df_test = df_test.head(100)"
   ]
  },
  {
   "cell_type": "code",
   "execution_count": 4,
   "metadata": {},
   "outputs": [
    {
     "data": {
      "text/html": [
       "<div>\n",
       "<style scoped>\n",
       "    .dataframe tbody tr th:only-of-type {\n",
       "        vertical-align: middle;\n",
       "    }\n",
       "\n",
       "    .dataframe tbody tr th {\n",
       "        vertical-align: top;\n",
       "    }\n",
       "\n",
       "    .dataframe thead th {\n",
       "        text-align: right;\n",
       "    }\n",
       "</style>\n",
       "<table border=\"1\" class=\"dataframe\">\n",
       "  <thead>\n",
       "    <tr style=\"text-align: right;\">\n",
       "      <th></th>\n",
       "      <th>id</th>\n",
       "      <th>breed</th>\n",
       "    </tr>\n",
       "  </thead>\n",
       "  <tbody>\n",
       "    <tr>\n",
       "      <th>0</th>\n",
       "      <td>000bec180eb18c7604dcecc8fe0dba07</td>\n",
       "      <td>boston_bull</td>\n",
       "    </tr>\n",
       "    <tr>\n",
       "      <th>1</th>\n",
       "      <td>001513dfcb2ffafc82cccf4d8bbaba97</td>\n",
       "      <td>dingo</td>\n",
       "    </tr>\n",
       "    <tr>\n",
       "      <th>2</th>\n",
       "      <td>001cdf01b096e06d78e9e5112d419397</td>\n",
       "      <td>pekinese</td>\n",
       "    </tr>\n",
       "    <tr>\n",
       "      <th>3</th>\n",
       "      <td>00214f311d5d2247d5dfe4fe24b2303d</td>\n",
       "      <td>bluetick</td>\n",
       "    </tr>\n",
       "    <tr>\n",
       "      <th>4</th>\n",
       "      <td>0021f9ceb3235effd7fcde7f7538ed62</td>\n",
       "      <td>golden_retriever</td>\n",
       "    </tr>\n",
       "    <tr>\n",
       "      <th>5</th>\n",
       "      <td>002211c81b498ef88e1b40b9abf84e1d</td>\n",
       "      <td>bedlington_terrier</td>\n",
       "    </tr>\n",
       "    <tr>\n",
       "      <th>6</th>\n",
       "      <td>00290d3e1fdd27226ba27a8ce248ce85</td>\n",
       "      <td>bedlington_terrier</td>\n",
       "    </tr>\n",
       "    <tr>\n",
       "      <th>7</th>\n",
       "      <td>002a283a315af96eaea0e28e7163b21b</td>\n",
       "      <td>borzoi</td>\n",
       "    </tr>\n",
       "    <tr>\n",
       "      <th>8</th>\n",
       "      <td>003df8b8a8b05244b1d920bb6cf451f9</td>\n",
       "      <td>basenji</td>\n",
       "    </tr>\n",
       "    <tr>\n",
       "      <th>9</th>\n",
       "      <td>0042188c895a2f14ef64a918ed9c7b64</td>\n",
       "      <td>scottish_deerhound</td>\n",
       "    </tr>\n",
       "  </tbody>\n",
       "</table>\n",
       "</div>"
      ],
      "text/plain": [
       "                                 id               breed\n",
       "0  000bec180eb18c7604dcecc8fe0dba07         boston_bull\n",
       "1  001513dfcb2ffafc82cccf4d8bbaba97               dingo\n",
       "2  001cdf01b096e06d78e9e5112d419397            pekinese\n",
       "3  00214f311d5d2247d5dfe4fe24b2303d            bluetick\n",
       "4  0021f9ceb3235effd7fcde7f7538ed62    golden_retriever\n",
       "5  002211c81b498ef88e1b40b9abf84e1d  bedlington_terrier\n",
       "6  00290d3e1fdd27226ba27a8ce248ce85  bedlington_terrier\n",
       "7  002a283a315af96eaea0e28e7163b21b              borzoi\n",
       "8  003df8b8a8b05244b1d920bb6cf451f9             basenji\n",
       "9  0042188c895a2f14ef64a918ed9c7b64  scottish_deerhound"
      ]
     },
     "execution_count": 4,
     "metadata": {},
     "output_type": "execute_result"
    }
   ],
   "source": [
    "df_train.head(10)"
   ]
  },
  {
   "cell_type": "markdown",
   "metadata": {},
   "source": [
    "We can see that the breed needs to be one-hot encoded for the final submission, so we will now do this."
   ]
  },
  {
   "cell_type": "code",
   "execution_count": 5,
   "metadata": {},
   "outputs": [],
   "source": [
    "targets_series = pd.Series(df_train['breed'])\n",
    "one_hot = pd.get_dummies(targets_series, sparse = True)"
   ]
  },
  {
   "cell_type": "code",
   "execution_count": 6,
   "metadata": {},
   "outputs": [],
   "source": [
    "one_hot_labels = np.asarray(one_hot)"
   ]
  },
  {
   "cell_type": "markdown",
   "metadata": {},
   "source": [
    "Next we will read in all of the images for test and train, using a for loop through the values of the csv files. I have also set an im_size variable which sets the size for the image to be re-sized to, 90x90 px, you should play with this number to see how it affects accuracy."
   ]
  },
  {
   "cell_type": "code",
   "execution_count": 7,
   "metadata": {},
   "outputs": [],
   "source": [
    "im_size = 90"
   ]
  },
  {
   "cell_type": "code",
   "execution_count": 8,
   "metadata": {},
   "outputs": [],
   "source": [
    "x_train = []\n",
    "y_train = []\n",
    "x_test = []"
   ]
  },
  {
   "cell_type": "code",
   "execution_count": 9,
   "metadata": {},
   "outputs": [
    {
     "name": "stderr",
     "output_type": "stream",
     "text": [
      "100%|██████████| 10222/10222 [00:30<00:00, 329.82it/s]\n"
     ]
    }
   ],
   "source": [
    "i = 0 \n",
    "for f, breed in tqdm(df_train.values):\n",
    "    img = cv2.imread('../input/train/{}.jpg'.format(f))\n",
    "    label = one_hot_labels[i]\n",
    "    x_train.append(cv2.resize(img, (im_size, im_size)))\n",
    "    y_train.append(label)\n",
    "    i += 1"
   ]
  },
  {
   "cell_type": "code",
   "execution_count": 10,
   "metadata": {},
   "outputs": [
    {
     "name": "stderr",
     "output_type": "stream",
     "text": [
      "100%|██████████| 10357/10357 [00:30<00:00, 338.46it/s]\n"
     ]
    }
   ],
   "source": [
    "for f in tqdm(df_test['id'].values):\n",
    "    img = cv2.imread('../input/test/{}.jpg'.format(f))\n",
    "    x_test.append(cv2.resize(img, (im_size, im_size)))"
   ]
  },
  {
   "cell_type": "code",
   "execution_count": 11,
   "metadata": {},
   "outputs": [],
   "source": [
    "y_train_raw = np.array(y_train, np.uint8)\n",
    "x_train_raw = np.array(x_train, np.float32) / 255.\n",
    "x_test  = np.array(x_test, np.float32) / 255."
   ]
  },
  {
   "cell_type": "markdown",
   "metadata": {},
   "source": [
    "We check the shape of the outputs to make sure everyting went as expected."
   ]
  },
  {
   "cell_type": "code",
   "execution_count": 12,
   "metadata": {},
   "outputs": [
    {
     "name": "stdout",
     "output_type": "stream",
     "text": [
      "(10222, 90, 90, 3)\n",
      "(10222, 120)\n",
      "(10357, 90, 90, 3)\n"
     ]
    }
   ],
   "source": [
    "print(x_train_raw.shape)\n",
    "print(y_train_raw.shape)\n",
    "print(x_test.shape)"
   ]
  },
  {
   "cell_type": "markdown",
   "metadata": {},
   "source": [
    "We can see above that there are 120 different breeds. We can put this in a num_class variable below that can then be used when creating the CNN model."
   ]
  },
  {
   "cell_type": "code",
   "execution_count": 13,
   "metadata": {},
   "outputs": [
    {
     "name": "stdout",
     "output_type": "stream",
     "text": [
      "Number of classes:  120\n"
     ]
    }
   ],
   "source": [
    "num_class = y_train_raw.shape[1]\n",
    "print('Number of classes: ', num_class)"
   ]
  },
  {
   "cell_type": "markdown",
   "metadata": {},
   "source": [
    "It is important to create a validation set so that you can gauge the performance of your model on independent data, unseen to the model in training. We do this by splitting the current training set (x_train_raw) and the corresponding labels (y_train_raw) so that we set aside 30 % of the data at random and put these in validation sets (X_valid and Y_valid).\n",
    "\n",
    "* This split needs to be improved so that it contains images from every class, with 120 separate classes some can not be represented and so the validation score is not informative."
   ]
  },
  {
   "cell_type": "code",
   "execution_count": 14,
   "metadata": {},
   "outputs": [],
   "source": [
    "X_train, X_valid, Y_train, Y_valid = train_test_split(x_train_raw, y_train_raw, test_size=validation_size, random_state=1)"
   ]
  },
  {
   "cell_type": "markdown",
   "metadata": {},
   "source": [
    "Now we build the CNN architecture. Here we are using a pre-trained model VGG19 which has already been trained to identify many different dog breeds (as well as a lot of other objects from the imagenet dataset see here for more information: http://image-net.org/about-overview). Unfortunately it doesn't seem possible to downlod the weights from within this kernel so make sure you set the weights argument to 'imagenet' and not None, as it currently is below.\n",
    "\n",
    "We then remove the final layer and instead replace it with a single dense layer with the number of nodes corresponding to the number of breed classes we have (120)."
   ]
  },
  {
   "cell_type": "code",
   "execution_count": 22,
   "metadata": {},
   "outputs": [
    {
     "name": "stdout",
     "output_type": "stream",
     "text": [
      "Tensorboard activated in directory:  ../tb/run5\n",
      "_________________________________________________________________\n",
      "Layer (type)                 Output Shape              Param #   \n",
      "=================================================================\n",
      "input_2 (InputLayer)         (None, 90, 90, 3)         0         \n",
      "_________________________________________________________________\n",
      "block1_conv1 (Conv2D)        (None, 90, 90, 64)        1792      \n",
      "_________________________________________________________________\n",
      "block1_conv2 (Conv2D)        (None, 90, 90, 64)        36928     \n",
      "_________________________________________________________________\n",
      "block1_pool (MaxPooling2D)   (None, 45, 45, 64)        0         \n",
      "_________________________________________________________________\n",
      "block2_conv1 (Conv2D)        (None, 45, 45, 128)       73856     \n",
      "_________________________________________________________________\n",
      "block2_conv2 (Conv2D)        (None, 45, 45, 128)       147584    \n",
      "_________________________________________________________________\n",
      "block2_pool (MaxPooling2D)   (None, 22, 22, 128)       0         \n",
      "_________________________________________________________________\n",
      "block3_conv1 (Conv2D)        (None, 22, 22, 256)       295168    \n",
      "_________________________________________________________________\n",
      "block3_conv2 (Conv2D)        (None, 22, 22, 256)       590080    \n",
      "_________________________________________________________________\n",
      "block3_conv3 (Conv2D)        (None, 22, 22, 256)       590080    \n",
      "_________________________________________________________________\n",
      "block3_conv4 (Conv2D)        (None, 22, 22, 256)       590080    \n",
      "_________________________________________________________________\n",
      "block3_pool (MaxPooling2D)   (None, 11, 11, 256)       0         \n",
      "_________________________________________________________________\n",
      "block4_conv1 (Conv2D)        (None, 11, 11, 512)       1180160   \n",
      "_________________________________________________________________\n",
      "block4_conv2 (Conv2D)        (None, 11, 11, 512)       2359808   \n",
      "_________________________________________________________________\n",
      "block4_conv3 (Conv2D)        (None, 11, 11, 512)       2359808   \n",
      "_________________________________________________________________\n",
      "block4_conv4 (Conv2D)        (None, 11, 11, 512)       2359808   \n",
      "_________________________________________________________________\n",
      "block4_pool (MaxPooling2D)   (None, 5, 5, 512)         0         \n",
      "_________________________________________________________________\n",
      "block5_conv1 (Conv2D)        (None, 5, 5, 512)         2359808   \n",
      "_________________________________________________________________\n",
      "block5_conv2 (Conv2D)        (None, 5, 5, 512)         2359808   \n",
      "_________________________________________________________________\n",
      "block5_conv3 (Conv2D)        (None, 5, 5, 512)         2359808   \n",
      "_________________________________________________________________\n",
      "block5_conv4 (Conv2D)        (None, 5, 5, 512)         2359808   \n",
      "_________________________________________________________________\n",
      "block5_pool (MaxPooling2D)   (None, 2, 2, 512)         0         \n",
      "_________________________________________________________________\n",
      "flatten_2 (Flatten)          (None, 2048)              0         \n",
      "_________________________________________________________________\n",
      "dense_2 (Dense)              (None, 120)               245880    \n",
      "=================================================================\n",
      "Total params: 20,270,264\n",
      "Trainable params: 245,880\n",
      "Non-trainable params: 20,024,384\n",
      "_________________________________________________________________\n"
     ]
    }
   ],
   "source": [
    "# Create the base pre-trained model\n",
    "# Can't download weights in the kernel\n",
    "base_model = VGG19(#weights='imagenet',\n",
    "    weights = 'imagenet', include_top=False, input_shape=(im_size, im_size, 3))\n",
    "\n",
    "# Add a new top layer\n",
    "x = base_model.output\n",
    "x = Flatten()(x)\n",
    "predictions = Dense(num_class, activation='softmax')(x)\n",
    "\n",
    "# This is the model we will train\n",
    "model = Model(inputs=base_model.input, outputs=predictions)\n",
    "\n",
    "# First: train only the top layers (which were randomly initialized)\n",
    "for layer in base_model.layers:\n",
    "    layer.trainable = False\n",
    "\n",
    "model.compile(loss='categorical_crossentropy', \n",
    "              optimizer='adam', \n",
    "              metrics=['accuracy'])\n",
    "\n",
    "callbacks_list = [];\n",
    "callbacks_list.append(keras.callbacks.EarlyStopping(\n",
    "    monitor='val_acc',\n",
    "    patience=10,\n",
    "    verbose=1));\n",
    "if tensorboardFlag:\n",
    "    callbacks_list.append(keras.callbacks.TensorBoard(\n",
    "            log_dir=tensorboard_dir,\n",
    "            histogram_freq=histogram_freq,\n",
    "            write_graph=False,\n",
    "            write_images=False));\n",
    "    print('Tensorboard activated in directory: ',tensorboard_dir)\n",
    "else:\n",
    "    print('Tensorboard NOT activated')\n",
    "\n",
    "\n",
    "model.summary()"
   ]
  },
  {
   "cell_type": "code",
   "execution_count": 16,
   "metadata": {},
   "outputs": [],
   "source": [
    "def generator(X,Y,batch_size):\n",
    "    batch_features = np.ndarray(shape=(batch_size,) + X.shape[1:],\n",
    "                                dtype=X.dtype);\n",
    "    batch_labels = np.ndarray(shape=(batch_size,) + Y.shape[1:],\n",
    "                                dtype=Y.dtype)\n",
    "    N = X.shape[0];\n",
    "    \n",
    "    while True:\n",
    "        for i in range(batch_size):\n",
    "            # choose random index in features\n",
    "            index= np.random.choice(N,1)\n",
    "            batch_features[i] = X[index]\n",
    "            batch_labels[i] = Y[index]\n",
    "        yield batch_features, batch_labels"
   ]
  },
  {
   "cell_type": "code",
   "execution_count": 23,
   "metadata": {},
   "outputs": [
    {
     "name": "stdout",
     "output_type": "stream",
     "text": [
      "Train on 7155 samples, validate on 3067 samples\n",
      "Epoch 1/10\n",
      "7155/7155 [==============================] - 26s 4ms/step - loss: 4.6696 - acc: 0.0335 - val_loss: 4.3520 - val_acc: 0.0796\n",
      "Epoch 2/10\n",
      "7155/7155 [==============================] - 26s 4ms/step - loss: 3.8368 - acc: 0.1625 - val_loss: 4.1430 - val_acc: 0.1047\n",
      "Epoch 3/10\n",
      "7155/7155 [==============================] - 26s 4ms/step - loss: 3.3782 - acc: 0.2639 - val_loss: 4.0664 - val_acc: 0.1223\n",
      "Epoch 4/10\n",
      "7155/7155 [==============================] - 26s 4ms/step - loss: 3.0476 - acc: 0.3318 - val_loss: 4.0290 - val_acc: 0.1219\n",
      "Epoch 5/10\n",
      "7155/7155 [==============================] - 26s 4ms/step - loss: 2.7775 - acc: 0.4015 - val_loss: 3.9747 - val_acc: 0.1298\n",
      "Epoch 6/10\n",
      "7155/7155 [==============================] - 26s 4ms/step - loss: 2.5441 - acc: 0.4461 - val_loss: 3.9599 - val_acc: 0.1301\n",
      "Epoch 7/10\n",
      "7155/7155 [==============================] - 26s 4ms/step - loss: 2.3439 - acc: 0.5086 - val_loss: 3.9737 - val_acc: 0.1376\n",
      "Epoch 8/10\n",
      "7155/7155 [==============================] - 26s 4ms/step - loss: 2.1773 - acc: 0.5565 - val_loss: 3.9746 - val_acc: 0.1340\n",
      "Epoch 9/10\n",
      "7155/7155 [==============================] - 26s 4ms/step - loss: 2.0198 - acc: 0.5971 - val_loss: 3.9560 - val_acc: 0.1340\n",
      "Epoch 10/10\n",
      "7155/7155 [==============================] - 26s 4ms/step - loss: 1.8902 - acc: 0.6326 - val_loss: 3.9826 - val_acc: 0.1389\n"
     ]
    },
    {
     "data": {
      "text/plain": [
       "<keras.callbacks.History at 0x7fd10ab7fa20>"
      ]
     },
     "execution_count": 23,
     "metadata": {},
     "output_type": "execute_result"
    }
   ],
   "source": [
    "model.fit(X_train, Y_train,\n",
    "          epochs=epochs,\n",
    "          batch_size = batchSize,\n",
    "          validation_data=(X_valid, Y_valid),\n",
    "          verbose=1,\n",
    "          callbacks=callbacks_list)\n",
    "\n",
    "# steps_per_epoch = round(X_train.shape[0]/batchSize)\n",
    "# model.fit_generator(generator(X_train,Y_train,batchSize),\n",
    "#                    steps_per_epoch=steps_per_epoch,\n",
    "#                    epochs=epochs,\n",
    "#                    verbose=1,\n",
    "#                    callbacks=callbacks_list,\n",
    "#                    validation_data=(X_valid,Y_valid),\n",
    "#                    workers=workers,\n",
    "#                    use_multiprocessing=True)"
   ]
  },
  {
   "cell_type": "markdown",
   "metadata": {},
   "source": [
    "Remember, accuracy is low here because we are not taking advantage of the pre-trained weights as they cannot be downloaded in the kernel. This means we are training the wights from scratch and I we have only run 1 epoch due to the hardware constraints in the kernel.\n",
    "\n",
    "Next we will make our predictions."
   ]
  },
  {
   "cell_type": "code",
   "execution_count": 24,
   "metadata": {},
   "outputs": [
    {
     "name": "stdout",
     "output_type": "stream",
     "text": [
      "10357/10357 [==============================] - 28s 3ms/step\n"
     ]
    }
   ],
   "source": [
    "preds = model.predict(x_test, verbose=1)"
   ]
  },
  {
   "cell_type": "code",
   "execution_count": 25,
   "metadata": {},
   "outputs": [
    {
     "data": {
      "text/html": [
       "<div>\n",
       "<style scoped>\n",
       "    .dataframe tbody tr th:only-of-type {\n",
       "        vertical-align: middle;\n",
       "    }\n",
       "\n",
       "    .dataframe tbody tr th {\n",
       "        vertical-align: top;\n",
       "    }\n",
       "\n",
       "    .dataframe thead th {\n",
       "        text-align: right;\n",
       "    }\n",
       "</style>\n",
       "<table border=\"1\" class=\"dataframe\">\n",
       "  <thead>\n",
       "    <tr style=\"text-align: right;\">\n",
       "      <th></th>\n",
       "      <th>id</th>\n",
       "      <th>affenpinscher</th>\n",
       "      <th>afghan_hound</th>\n",
       "      <th>african_hunting_dog</th>\n",
       "      <th>airedale</th>\n",
       "      <th>american_staffordshire_terrier</th>\n",
       "      <th>appenzeller</th>\n",
       "      <th>australian_terrier</th>\n",
       "      <th>basenji</th>\n",
       "      <th>basset</th>\n",
       "      <th>...</th>\n",
       "      <th>toy_poodle</th>\n",
       "      <th>toy_terrier</th>\n",
       "      <th>vizsla</th>\n",
       "      <th>walker_hound</th>\n",
       "      <th>weimaraner</th>\n",
       "      <th>welsh_springer_spaniel</th>\n",
       "      <th>west_highland_white_terrier</th>\n",
       "      <th>whippet</th>\n",
       "      <th>wire-haired_fox_terrier</th>\n",
       "      <th>yorkshire_terrier</th>\n",
       "    </tr>\n",
       "  </thead>\n",
       "  <tbody>\n",
       "    <tr>\n",
       "      <th>0</th>\n",
       "      <td>000621fb3cbb32d8935728e48679680e</td>\n",
       "      <td>8.977614e-06</td>\n",
       "      <td>2.058467e-03</td>\n",
       "      <td>2.953424e-06</td>\n",
       "      <td>2.834425e-06</td>\n",
       "      <td>0.004311</td>\n",
       "      <td>0.000052</td>\n",
       "      <td>0.000126</td>\n",
       "      <td>0.000711</td>\n",
       "      <td>9.409663e-03</td>\n",
       "      <td>...</td>\n",
       "      <td>1.317757e-03</td>\n",
       "      <td>1.539885e-04</td>\n",
       "      <td>5.363414e-05</td>\n",
       "      <td>9.527878e-04</td>\n",
       "      <td>1.954524e-02</td>\n",
       "      <td>1.299639e-01</td>\n",
       "      <td>9.260310e-07</td>\n",
       "      <td>4.768775e-04</td>\n",
       "      <td>0.000126</td>\n",
       "      <td>0.000015</td>\n",
       "    </tr>\n",
       "    <tr>\n",
       "      <th>1</th>\n",
       "      <td>00102ee9d8eb90812350685311fe5890</td>\n",
       "      <td>2.763812e-04</td>\n",
       "      <td>1.731115e-03</td>\n",
       "      <td>8.001035e-05</td>\n",
       "      <td>3.014813e-05</td>\n",
       "      <td>0.000612</td>\n",
       "      <td>0.000114</td>\n",
       "      <td>0.000769</td>\n",
       "      <td>0.000116</td>\n",
       "      <td>2.744072e-04</td>\n",
       "      <td>...</td>\n",
       "      <td>6.950337e-03</td>\n",
       "      <td>1.230091e-02</td>\n",
       "      <td>4.714187e-05</td>\n",
       "      <td>6.241740e-05</td>\n",
       "      <td>7.707609e-04</td>\n",
       "      <td>3.571663e-04</td>\n",
       "      <td>3.518358e-03</td>\n",
       "      <td>5.854042e-04</td>\n",
       "      <td>0.011657</td>\n",
       "      <td>0.000119</td>\n",
       "    </tr>\n",
       "    <tr>\n",
       "      <th>2</th>\n",
       "      <td>0012a730dfa437f5f3613fb75efcd4ce</td>\n",
       "      <td>9.695714e-04</td>\n",
       "      <td>1.602765e-03</td>\n",
       "      <td>1.461310e-03</td>\n",
       "      <td>1.056984e-02</td>\n",
       "      <td>0.007570</td>\n",
       "      <td>0.028564</td>\n",
       "      <td>0.001623</td>\n",
       "      <td>0.043498</td>\n",
       "      <td>8.097608e-03</td>\n",
       "      <td>...</td>\n",
       "      <td>4.663540e-03</td>\n",
       "      <td>2.657343e-03</td>\n",
       "      <td>7.329178e-04</td>\n",
       "      <td>5.075794e-03</td>\n",
       "      <td>1.405053e-02</td>\n",
       "      <td>3.178776e-03</td>\n",
       "      <td>3.529280e-03</td>\n",
       "      <td>3.620130e-02</td>\n",
       "      <td>0.017505</td>\n",
       "      <td>0.000583</td>\n",
       "    </tr>\n",
       "    <tr>\n",
       "      <th>3</th>\n",
       "      <td>001510bc8570bbeee98c8d80c8a95ec1</td>\n",
       "      <td>8.924165e-03</td>\n",
       "      <td>6.765326e-03</td>\n",
       "      <td>1.105086e-03</td>\n",
       "      <td>1.577807e-02</td>\n",
       "      <td>0.004862</td>\n",
       "      <td>0.019543</td>\n",
       "      <td>0.007722</td>\n",
       "      <td>0.155049</td>\n",
       "      <td>2.511635e-04</td>\n",
       "      <td>...</td>\n",
       "      <td>8.854185e-04</td>\n",
       "      <td>1.092843e-03</td>\n",
       "      <td>3.146500e-04</td>\n",
       "      <td>8.243831e-05</td>\n",
       "      <td>3.443761e-04</td>\n",
       "      <td>5.538823e-04</td>\n",
       "      <td>8.408279e-05</td>\n",
       "      <td>2.469887e-02</td>\n",
       "      <td>0.000872</td>\n",
       "      <td>0.001031</td>\n",
       "    </tr>\n",
       "    <tr>\n",
       "      <th>4</th>\n",
       "      <td>001a5f3114548acdefa3d4da05474c2e</td>\n",
       "      <td>1.389753e-02</td>\n",
       "      <td>4.035940e-03</td>\n",
       "      <td>1.732581e-02</td>\n",
       "      <td>2.388310e-02</td>\n",
       "      <td>0.008297</td>\n",
       "      <td>0.001924</td>\n",
       "      <td>0.014864</td>\n",
       "      <td>0.000883</td>\n",
       "      <td>1.027024e-03</td>\n",
       "      <td>...</td>\n",
       "      <td>1.505542e-03</td>\n",
       "      <td>3.238849e-04</td>\n",
       "      <td>4.034016e-04</td>\n",
       "      <td>1.780710e-04</td>\n",
       "      <td>8.360330e-03</td>\n",
       "      <td>7.936951e-05</td>\n",
       "      <td>6.398355e-04</td>\n",
       "      <td>4.345995e-03</td>\n",
       "      <td>0.009893</td>\n",
       "      <td>0.001115</td>\n",
       "    </tr>\n",
       "    <tr>\n",
       "      <th>5</th>\n",
       "      <td>00225dcd3e4d2410dd53239f95c0352f</td>\n",
       "      <td>3.819395e-05</td>\n",
       "      <td>2.545938e-02</td>\n",
       "      <td>2.052132e-04</td>\n",
       "      <td>5.738481e-04</td>\n",
       "      <td>0.001550</td>\n",
       "      <td>0.000006</td>\n",
       "      <td>0.002255</td>\n",
       "      <td>0.002402</td>\n",
       "      <td>5.480761e-03</td>\n",
       "      <td>...</td>\n",
       "      <td>1.053314e-02</td>\n",
       "      <td>1.214514e-03</td>\n",
       "      <td>7.797933e-04</td>\n",
       "      <td>1.367094e-02</td>\n",
       "      <td>4.235110e-03</td>\n",
       "      <td>5.755645e-03</td>\n",
       "      <td>3.034843e-04</td>\n",
       "      <td>3.940601e-02</td>\n",
       "      <td>0.003088</td>\n",
       "      <td>0.000306</td>\n",
       "    </tr>\n",
       "    <tr>\n",
       "      <th>6</th>\n",
       "      <td>002c2a3117c2193b4d26400ce431eebd</td>\n",
       "      <td>4.625614e-03</td>\n",
       "      <td>8.327835e-03</td>\n",
       "      <td>8.268281e-03</td>\n",
       "      <td>9.772742e-03</td>\n",
       "      <td>0.002929</td>\n",
       "      <td>0.007508</td>\n",
       "      <td>0.125620</td>\n",
       "      <td>0.012112</td>\n",
       "      <td>2.738851e-04</td>\n",
       "      <td>...</td>\n",
       "      <td>1.404368e-03</td>\n",
       "      <td>1.609720e-02</td>\n",
       "      <td>2.285474e-03</td>\n",
       "      <td>3.432672e-03</td>\n",
       "      <td>1.077524e-03</td>\n",
       "      <td>1.321773e-02</td>\n",
       "      <td>7.555991e-03</td>\n",
       "      <td>6.096500e-04</td>\n",
       "      <td>0.006207</td>\n",
       "      <td>0.025170</td>\n",
       "    </tr>\n",
       "    <tr>\n",
       "      <th>7</th>\n",
       "      <td>002c58d413a521ae8d1a5daeb35fc803</td>\n",
       "      <td>1.927418e-08</td>\n",
       "      <td>1.348139e-07</td>\n",
       "      <td>1.738515e-09</td>\n",
       "      <td>2.050532e-07</td>\n",
       "      <td>0.000163</td>\n",
       "      <td>0.000001</td>\n",
       "      <td>0.000494</td>\n",
       "      <td>0.000092</td>\n",
       "      <td>5.894461e-09</td>\n",
       "      <td>...</td>\n",
       "      <td>4.972010e-07</td>\n",
       "      <td>4.928291e-07</td>\n",
       "      <td>1.229494e-11</td>\n",
       "      <td>3.053390e-09</td>\n",
       "      <td>5.256471e-12</td>\n",
       "      <td>8.646798e-07</td>\n",
       "      <td>3.023320e-01</td>\n",
       "      <td>9.443148e-07</td>\n",
       "      <td>0.060565</td>\n",
       "      <td>0.000003</td>\n",
       "    </tr>\n",
       "    <tr>\n",
       "      <th>8</th>\n",
       "      <td>002f80396f1e3db687c5932d7978b196</td>\n",
       "      <td>2.960608e-03</td>\n",
       "      <td>2.341126e-03</td>\n",
       "      <td>6.554633e-02</td>\n",
       "      <td>8.635166e-03</td>\n",
       "      <td>0.008728</td>\n",
       "      <td>0.004145</td>\n",
       "      <td>0.014262</td>\n",
       "      <td>0.008312</td>\n",
       "      <td>9.197900e-04</td>\n",
       "      <td>...</td>\n",
       "      <td>1.253495e-03</td>\n",
       "      <td>2.590940e-04</td>\n",
       "      <td>6.784584e-04</td>\n",
       "      <td>5.207917e-04</td>\n",
       "      <td>2.943838e-02</td>\n",
       "      <td>1.336569e-03</td>\n",
       "      <td>8.311726e-04</td>\n",
       "      <td>1.350470e-02</td>\n",
       "      <td>0.004099</td>\n",
       "      <td>0.000675</td>\n",
       "    </tr>\n",
       "    <tr>\n",
       "      <th>9</th>\n",
       "      <td>0036c6bcec6031be9e62a257b1c3c442</td>\n",
       "      <td>1.921794e-03</td>\n",
       "      <td>3.187023e-04</td>\n",
       "      <td>1.248891e-03</td>\n",
       "      <td>2.359620e-04</td>\n",
       "      <td>0.001231</td>\n",
       "      <td>0.003022</td>\n",
       "      <td>0.001636</td>\n",
       "      <td>0.000133</td>\n",
       "      <td>8.008133e-04</td>\n",
       "      <td>...</td>\n",
       "      <td>2.011388e-04</td>\n",
       "      <td>4.754839e-05</td>\n",
       "      <td>3.559669e-04</td>\n",
       "      <td>2.859689e-03</td>\n",
       "      <td>2.753715e-01</td>\n",
       "      <td>5.790440e-04</td>\n",
       "      <td>1.759257e-05</td>\n",
       "      <td>2.306983e-04</td>\n",
       "      <td>0.000296</td>\n",
       "      <td>0.000083</td>\n",
       "    </tr>\n",
       "  </tbody>\n",
       "</table>\n",
       "<p>10 rows × 121 columns</p>\n",
       "</div>"
      ],
      "text/plain": [
       "                                 id  affenpinscher  afghan_hound  \\\n",
       "0  000621fb3cbb32d8935728e48679680e   8.977614e-06  2.058467e-03   \n",
       "1  00102ee9d8eb90812350685311fe5890   2.763812e-04  1.731115e-03   \n",
       "2  0012a730dfa437f5f3613fb75efcd4ce   9.695714e-04  1.602765e-03   \n",
       "3  001510bc8570bbeee98c8d80c8a95ec1   8.924165e-03  6.765326e-03   \n",
       "4  001a5f3114548acdefa3d4da05474c2e   1.389753e-02  4.035940e-03   \n",
       "5  00225dcd3e4d2410dd53239f95c0352f   3.819395e-05  2.545938e-02   \n",
       "6  002c2a3117c2193b4d26400ce431eebd   4.625614e-03  8.327835e-03   \n",
       "7  002c58d413a521ae8d1a5daeb35fc803   1.927418e-08  1.348139e-07   \n",
       "8  002f80396f1e3db687c5932d7978b196   2.960608e-03  2.341126e-03   \n",
       "9  0036c6bcec6031be9e62a257b1c3c442   1.921794e-03  3.187023e-04   \n",
       "\n",
       "   african_hunting_dog      airedale  american_staffordshire_terrier  \\\n",
       "0         2.953424e-06  2.834425e-06                        0.004311   \n",
       "1         8.001035e-05  3.014813e-05                        0.000612   \n",
       "2         1.461310e-03  1.056984e-02                        0.007570   \n",
       "3         1.105086e-03  1.577807e-02                        0.004862   \n",
       "4         1.732581e-02  2.388310e-02                        0.008297   \n",
       "5         2.052132e-04  5.738481e-04                        0.001550   \n",
       "6         8.268281e-03  9.772742e-03                        0.002929   \n",
       "7         1.738515e-09  2.050532e-07                        0.000163   \n",
       "8         6.554633e-02  8.635166e-03                        0.008728   \n",
       "9         1.248891e-03  2.359620e-04                        0.001231   \n",
       "\n",
       "   appenzeller  australian_terrier   basenji        basset        ...          \\\n",
       "0     0.000052            0.000126  0.000711  9.409663e-03        ...           \n",
       "1     0.000114            0.000769  0.000116  2.744072e-04        ...           \n",
       "2     0.028564            0.001623  0.043498  8.097608e-03        ...           \n",
       "3     0.019543            0.007722  0.155049  2.511635e-04        ...           \n",
       "4     0.001924            0.014864  0.000883  1.027024e-03        ...           \n",
       "5     0.000006            0.002255  0.002402  5.480761e-03        ...           \n",
       "6     0.007508            0.125620  0.012112  2.738851e-04        ...           \n",
       "7     0.000001            0.000494  0.000092  5.894461e-09        ...           \n",
       "8     0.004145            0.014262  0.008312  9.197900e-04        ...           \n",
       "9     0.003022            0.001636  0.000133  8.008133e-04        ...           \n",
       "\n",
       "     toy_poodle   toy_terrier        vizsla  walker_hound    weimaraner  \\\n",
       "0  1.317757e-03  1.539885e-04  5.363414e-05  9.527878e-04  1.954524e-02   \n",
       "1  6.950337e-03  1.230091e-02  4.714187e-05  6.241740e-05  7.707609e-04   \n",
       "2  4.663540e-03  2.657343e-03  7.329178e-04  5.075794e-03  1.405053e-02   \n",
       "3  8.854185e-04  1.092843e-03  3.146500e-04  8.243831e-05  3.443761e-04   \n",
       "4  1.505542e-03  3.238849e-04  4.034016e-04  1.780710e-04  8.360330e-03   \n",
       "5  1.053314e-02  1.214514e-03  7.797933e-04  1.367094e-02  4.235110e-03   \n",
       "6  1.404368e-03  1.609720e-02  2.285474e-03  3.432672e-03  1.077524e-03   \n",
       "7  4.972010e-07  4.928291e-07  1.229494e-11  3.053390e-09  5.256471e-12   \n",
       "8  1.253495e-03  2.590940e-04  6.784584e-04  5.207917e-04  2.943838e-02   \n",
       "9  2.011388e-04  4.754839e-05  3.559669e-04  2.859689e-03  2.753715e-01   \n",
       "\n",
       "   welsh_springer_spaniel  west_highland_white_terrier       whippet  \\\n",
       "0            1.299639e-01                 9.260310e-07  4.768775e-04   \n",
       "1            3.571663e-04                 3.518358e-03  5.854042e-04   \n",
       "2            3.178776e-03                 3.529280e-03  3.620130e-02   \n",
       "3            5.538823e-04                 8.408279e-05  2.469887e-02   \n",
       "4            7.936951e-05                 6.398355e-04  4.345995e-03   \n",
       "5            5.755645e-03                 3.034843e-04  3.940601e-02   \n",
       "6            1.321773e-02                 7.555991e-03  6.096500e-04   \n",
       "7            8.646798e-07                 3.023320e-01  9.443148e-07   \n",
       "8            1.336569e-03                 8.311726e-04  1.350470e-02   \n",
       "9            5.790440e-04                 1.759257e-05  2.306983e-04   \n",
       "\n",
       "   wire-haired_fox_terrier  yorkshire_terrier  \n",
       "0                 0.000126           0.000015  \n",
       "1                 0.011657           0.000119  \n",
       "2                 0.017505           0.000583  \n",
       "3                 0.000872           0.001031  \n",
       "4                 0.009893           0.001115  \n",
       "5                 0.003088           0.000306  \n",
       "6                 0.006207           0.025170  \n",
       "7                 0.060565           0.000003  \n",
       "8                 0.004099           0.000675  \n",
       "9                 0.000296           0.000083  \n",
       "\n",
       "[10 rows x 121 columns]"
      ]
     },
     "execution_count": 25,
     "metadata": {},
     "output_type": "execute_result"
    }
   ],
   "source": [
    "sub = pd.DataFrame(preds)\n",
    "# Set column names to those generated by the one-hot encoding earlier\n",
    "col_names = one_hot.columns.values\n",
    "sub.columns = col_names\n",
    "# Insert the column id from the sample_submission at the start of the data frame\n",
    "sub.insert(0, 'id', df_test['id'])\n",
    "sub.head(10)"
   ]
  }
 ],
 "metadata": {
  "kernelspec": {
   "display_name": "Python 3",
   "language": "python",
   "name": "python3"
  },
  "language_info": {
   "codemirror_mode": {
    "name": "ipython",
    "version": 3
   },
   "file_extension": ".py",
   "mimetype": "text/x-python",
   "name": "python",
   "nbconvert_exporter": "python",
   "pygments_lexer": "ipython3",
   "version": "3.5.2"
  }
 },
 "nbformat": 4,
 "nbformat_minor": 2
}
