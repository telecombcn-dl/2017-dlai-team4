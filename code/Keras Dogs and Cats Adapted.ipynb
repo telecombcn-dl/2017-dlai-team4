{
 "cells": [
  {
   "cell_type": "code",
   "execution_count": 1,
   "metadata": {},
   "outputs": [
    {
     "name": "stderr",
     "output_type": "stream",
     "text": [
      "Using TensorFlow backend.\n"
     ]
    },
    {
     "name": "stdout",
     "output_type": "stream",
     "text": [
      "labels.csv\n",
      "sample_submission.csv\n",
      "test\n",
      "train\n",
      "\n"
     ]
    }
   ],
   "source": [
    "# This Python 3 environment comes with many helpful analytics libraries installed\n",
    "# It is defined by the kaggle/python docker image: https://github.com/kaggle/docker-python\n",
    "# For example, here's several helpful packages to load in \n",
    "import numpy as np # linear algebra\n",
    "import pandas as pd # data processing, CSV file I/O (e.g. pd.read_csv)\n",
    "import keras\n",
    "from keras.models import Model\n",
    "from keras.layers import Dense, Dropout, Flatten\n",
    "from keras.preprocessing.image import ImageDataGenerator\n",
    "from keras.models import Sequential\n",
    "from keras.layers import Conv2D, MaxPooling2D\n",
    "from keras.layers import Activation, Dropout, Flatten, Dense\n",
    "from keras import backend as K\n",
    "\n",
    "\n",
    "\n",
    "import tensorflow as tf\n",
    "import random\n",
    "import os\n",
    "from tqdm import tqdm\n",
    "from sklearn import preprocessing\n",
    "from sklearn.model_selection import train_test_split\n",
    "import cv2\n",
    "# Input data files are available in the \"../input/\" directory.\n",
    "# For example, running this (by clicking run or pressing Shift+Enter) will list the files in the input directory\n",
    "\n",
    "from subprocess import check_output\n",
    "print(check_output([\"ls\", \"../input\"]).decode(\"utf8\"))\n",
    "\n",
    "# Any results you write to the current directory are saved as output."
   ]
  },
  {
   "cell_type": "code",
   "execution_count": 2,
   "metadata": {},
   "outputs": [],
   "source": [
    "######### VGG19 parameters ########\n",
    "dontFreezeLast = 2;\n",
    "\n",
    "patience = 30;\n",
    "\n",
    "loadWeights = False;\n",
    "saveWeights = False;\n",
    "tensorboard_dir = '../tb/catsdogs/try0';\n",
    "\n",
    "checkPointPath = tensorboard_dir + '/best_weights.hdf5';\n",
    "\n",
    "####################################\n",
    "\n",
    "gpuName = '/device:GPU:1'\n",
    "tensorboardFlag = True;\n",
    "workers = 10;\n",
    "histogram_freq = 0;\n",
    "\n",
    "batchSize = 64;\n",
    "epochs = 100;\n",
    "validation_size=0.3;"
   ]
  },
  {
   "cell_type": "markdown",
   "metadata": {},
   "source": [
    "First we will read in the csv's so we can see some more information on the filenames and breeds"
   ]
  },
  {
   "cell_type": "code",
   "execution_count": 3,
   "metadata": {},
   "outputs": [
    {
     "name": "stdout",
     "output_type": "stream",
     "text": [
      "('Training images: ', 10222)\n",
      "('Test images: ', 10357)\n"
     ]
    }
   ],
   "source": [
    "df_train = pd.read_csv('../input/labels.csv')\n",
    "df_test = pd.read_csv('../input/sample_submission.csv')\n",
    "\n",
    "print('Training images: ',df_train.shape[0])\n",
    "print('Test images: ',df_test.shape[0])\n",
    "\n",
    "# reduce dimensionality\n",
    "#df_train = df_train.head(100)\n",
    "#df_test = df_test.head(100)"
   ]
  },
  {
   "cell_type": "code",
   "execution_count": 4,
   "metadata": {},
   "outputs": [
    {
     "data": {
      "text/html": [
       "<div>\n",
       "<style scoped>\n",
       "    .dataframe tbody tr th:only-of-type {\n",
       "        vertical-align: middle;\n",
       "    }\n",
       "\n",
       "    .dataframe tbody tr th {\n",
       "        vertical-align: top;\n",
       "    }\n",
       "\n",
       "    .dataframe thead th {\n",
       "        text-align: right;\n",
       "    }\n",
       "</style>\n",
       "<table border=\"1\" class=\"dataframe\">\n",
       "  <thead>\n",
       "    <tr style=\"text-align: right;\">\n",
       "      <th></th>\n",
       "      <th>id</th>\n",
       "      <th>breed</th>\n",
       "    </tr>\n",
       "  </thead>\n",
       "  <tbody>\n",
       "    <tr>\n",
       "      <th>0</th>\n",
       "      <td>000bec180eb18c7604dcecc8fe0dba07</td>\n",
       "      <td>boston_bull</td>\n",
       "    </tr>\n",
       "    <tr>\n",
       "      <th>1</th>\n",
       "      <td>001513dfcb2ffafc82cccf4d8bbaba97</td>\n",
       "      <td>dingo</td>\n",
       "    </tr>\n",
       "    <tr>\n",
       "      <th>2</th>\n",
       "      <td>001cdf01b096e06d78e9e5112d419397</td>\n",
       "      <td>pekinese</td>\n",
       "    </tr>\n",
       "    <tr>\n",
       "      <th>3</th>\n",
       "      <td>00214f311d5d2247d5dfe4fe24b2303d</td>\n",
       "      <td>bluetick</td>\n",
       "    </tr>\n",
       "    <tr>\n",
       "      <th>4</th>\n",
       "      <td>0021f9ceb3235effd7fcde7f7538ed62</td>\n",
       "      <td>golden_retriever</td>\n",
       "    </tr>\n",
       "    <tr>\n",
       "      <th>5</th>\n",
       "      <td>002211c81b498ef88e1b40b9abf84e1d</td>\n",
       "      <td>bedlington_terrier</td>\n",
       "    </tr>\n",
       "    <tr>\n",
       "      <th>6</th>\n",
       "      <td>00290d3e1fdd27226ba27a8ce248ce85</td>\n",
       "      <td>bedlington_terrier</td>\n",
       "    </tr>\n",
       "    <tr>\n",
       "      <th>7</th>\n",
       "      <td>002a283a315af96eaea0e28e7163b21b</td>\n",
       "      <td>borzoi</td>\n",
       "    </tr>\n",
       "    <tr>\n",
       "      <th>8</th>\n",
       "      <td>003df8b8a8b05244b1d920bb6cf451f9</td>\n",
       "      <td>basenji</td>\n",
       "    </tr>\n",
       "    <tr>\n",
       "      <th>9</th>\n",
       "      <td>0042188c895a2f14ef64a918ed9c7b64</td>\n",
       "      <td>scottish_deerhound</td>\n",
       "    </tr>\n",
       "  </tbody>\n",
       "</table>\n",
       "</div>"
      ],
      "text/plain": [
       "                                 id               breed\n",
       "0  000bec180eb18c7604dcecc8fe0dba07         boston_bull\n",
       "1  001513dfcb2ffafc82cccf4d8bbaba97               dingo\n",
       "2  001cdf01b096e06d78e9e5112d419397            pekinese\n",
       "3  00214f311d5d2247d5dfe4fe24b2303d            bluetick\n",
       "4  0021f9ceb3235effd7fcde7f7538ed62    golden_retriever\n",
       "5  002211c81b498ef88e1b40b9abf84e1d  bedlington_terrier\n",
       "6  00290d3e1fdd27226ba27a8ce248ce85  bedlington_terrier\n",
       "7  002a283a315af96eaea0e28e7163b21b              borzoi\n",
       "8  003df8b8a8b05244b1d920bb6cf451f9             basenji\n",
       "9  0042188c895a2f14ef64a918ed9c7b64  scottish_deerhound"
      ]
     },
     "execution_count": 4,
     "metadata": {},
     "output_type": "execute_result"
    }
   ],
   "source": [
    "df_train.head(10)"
   ]
  },
  {
   "cell_type": "markdown",
   "metadata": {},
   "source": [
    "We can see that the breed needs to be one-hot encoded for the final submission, so we will now do this."
   ]
  },
  {
   "cell_type": "code",
   "execution_count": 5,
   "metadata": {},
   "outputs": [],
   "source": [
    "targets_series = pd.Series(df_train['breed'])\n",
    "one_hot = pd.get_dummies(targets_series, sparse = True)"
   ]
  },
  {
   "cell_type": "code",
   "execution_count": 6,
   "metadata": {},
   "outputs": [],
   "source": [
    "one_hot_labels = np.asarray(one_hot)"
   ]
  },
  {
   "cell_type": "markdown",
   "metadata": {},
   "source": [
    "Next we will read in all of the images for test and train, using a for loop through the values of the csv files. I have also set an im_size variable which sets the size for the image to be re-sized to, 90x90 px, you should play with this number to see how it affects accuracy."
   ]
  },
  {
   "cell_type": "code",
   "execution_count": 7,
   "metadata": {},
   "outputs": [],
   "source": [
    "im_size = 90"
   ]
  },
  {
   "cell_type": "code",
   "execution_count": 8,
   "metadata": {},
   "outputs": [],
   "source": [
    "x_train = []\n",
    "y_train = []\n",
    "x_test = []"
   ]
  },
  {
   "cell_type": "code",
   "execution_count": 9,
   "metadata": {},
   "outputs": [
    {
     "name": "stderr",
     "output_type": "stream",
     "text": [
      "100%|██████████| 10222/10222 [00:31<00:00, 329.70it/s]\n"
     ]
    }
   ],
   "source": [
    "i = 0 \n",
    "for f, breed in tqdm(df_train.values):\n",
    "    img = cv2.imread('../input/train/{}.jpg'.format(f))\n",
    "    label = one_hot_labels[i]\n",
    "    x_train.append(cv2.resize(img, (im_size, im_size)))\n",
    "    y_train.append(label)\n",
    "    i += 1"
   ]
  },
  {
   "cell_type": "code",
   "execution_count": 10,
   "metadata": {},
   "outputs": [],
   "source": [
    "# for f in tqdm(df_test['id'].values):\n",
    "#     img = cv2.imread('../input/test/{}.jpg'.format(f))\n",
    "#     x_test.append(cv2.resize(img, (im_size, im_size)))"
   ]
  },
  {
   "cell_type": "code",
   "execution_count": 11,
   "metadata": {},
   "outputs": [],
   "source": [
    "y_train_raw = np.array(y_train, np.uint8)\n",
    "x_train_raw = np.array(x_train, np.float32) / 255.\n",
    "x_test  = np.array(x_test, np.float32) / 255."
   ]
  },
  {
   "cell_type": "markdown",
   "metadata": {},
   "source": [
    "We check the shape of the outputs to make sure everyting went as expected."
   ]
  },
  {
   "cell_type": "code",
   "execution_count": 12,
   "metadata": {},
   "outputs": [
    {
     "name": "stdout",
     "output_type": "stream",
     "text": [
      "(10222, 90, 90, 3)\n",
      "(10222, 120)\n",
      "(0,)\n"
     ]
    }
   ],
   "source": [
    "print(x_train_raw.shape)\n",
    "print(y_train_raw.shape)\n",
    "print(x_test.shape)"
   ]
  },
  {
   "cell_type": "markdown",
   "metadata": {},
   "source": [
    "We can see above that there are 120 different breeds. We can put this in a num_class variable below that can then be used when creating the CNN model."
   ]
  },
  {
   "cell_type": "code",
   "execution_count": 13,
   "metadata": {},
   "outputs": [
    {
     "name": "stdout",
     "output_type": "stream",
     "text": [
      "('Number of classes: ', 120)\n"
     ]
    }
   ],
   "source": [
    "num_class = y_train_raw.shape[1]\n",
    "print('Number of classes: ', num_class)"
   ]
  },
  {
   "cell_type": "markdown",
   "metadata": {},
   "source": [
    "It is important to create a validation set so that you can gauge the performance of your model on independent data, unseen to the model in training. We do this by splitting the current training set (x_train_raw) and the corresponding labels (y_train_raw) so that we set aside 30 % of the data at random and put these in validation sets (X_valid and Y_valid).\n",
    "\n",
    "* This split needs to be improved so that it contains images from every class, with 120 separate classes some can not be represented and so the validation score is not informative."
   ]
  },
  {
   "cell_type": "code",
   "execution_count": 14,
   "metadata": {},
   "outputs": [],
   "source": [
    "X_train, X_valid, Y_train, Y_valid = train_test_split(x_train_raw, y_train_raw, test_size=validation_size, random_state=1)"
   ]
  },
  {
   "cell_type": "markdown",
   "metadata": {},
   "source": [
    "Now we build the CNN architecture. Here we are using a pre-trained model VGG19 which has already been trained to identify many different dog breeds (as well as a lot of other objects from the imagenet dataset see here for more information: http://image-net.org/about-overview). Unfortunately it doesn't seem possible to downlod the weights from within this kernel so make sure you set the weights argument to 'imagenet' and not None, as it currently is below.\n",
    "\n",
    "We then remove the final layer and instead replace it with a single dense layer with the number of nodes corresponding to the number of breed classes we have (120)."
   ]
  },
  {
   "cell_type": "code",
   "execution_count": 15,
   "metadata": {},
   "outputs": [
    {
     "name": "stdout",
     "output_type": "stream",
     "text": [
      "('Tensorboard activated in directory: ', '../tb/catsdogs')\n",
      "_________________________________________________________________\n",
      "Layer (type)                 Output Shape              Param #   \n",
      "=================================================================\n",
      "conv2d_1 (Conv2D)            (None, 88, 88, 32)        896       \n",
      "_________________________________________________________________\n",
      "activation_1 (Activation)    (None, 88, 88, 32)        0         \n",
      "_________________________________________________________________\n",
      "max_pooling2d_1 (MaxPooling2 (None, 44, 44, 32)        0         \n",
      "_________________________________________________________________\n",
      "conv2d_2 (Conv2D)            (None, 42, 42, 32)        9248      \n",
      "_________________________________________________________________\n",
      "activation_2 (Activation)    (None, 42, 42, 32)        0         \n",
      "_________________________________________________________________\n",
      "max_pooling2d_2 (MaxPooling2 (None, 21, 21, 32)        0         \n",
      "_________________________________________________________________\n",
      "conv2d_3 (Conv2D)            (None, 19, 19, 64)        18496     \n",
      "_________________________________________________________________\n",
      "activation_3 (Activation)    (None, 19, 19, 64)        0         \n",
      "_________________________________________________________________\n",
      "max_pooling2d_3 (MaxPooling2 (None, 9, 9, 64)          0         \n",
      "_________________________________________________________________\n",
      "flatten_1 (Flatten)          (None, 5184)              0         \n",
      "_________________________________________________________________\n",
      "dense_1 (Dense)              (None, 64)                331840    \n",
      "_________________________________________________________________\n",
      "activation_4 (Activation)    (None, 64)                0         \n",
      "_________________________________________________________________\n",
      "dropout_1 (Dropout)          (None, 64)                0         \n",
      "_________________________________________________________________\n",
      "dense_2 (Dense)              (None, 120)               7800      \n",
      "_________________________________________________________________\n",
      "activation_5 (Activation)    (None, 120)               0         \n",
      "=================================================================\n",
      "Total params: 368,280\n",
      "Trainable params: 368,280\n",
      "Non-trainable params: 0\n",
      "_________________________________________________________________\n"
     ]
    }
   ],
   "source": [
    "# Create the base pre-trained model\n",
    "# Can't download weights in the kernel\n",
    "with tf.device(gpuName):\n",
    "    \n",
    "    epochs = 50\n",
    "    batch_size = 16\n",
    "\n",
    "    if K.image_data_format() == 'channels_first':\n",
    "        input_shape = (3, im_size, im_size)\n",
    "    else:\n",
    "        input_shape = (im_size, im_size, 3)\n",
    "\n",
    "     \n",
    "    \n",
    "    model = Sequential()\n",
    "    model.add(Conv2D(32, (3, 3), input_shape=input_shape))\n",
    "    model.add(Activation('relu'))\n",
    "    model.add(MaxPooling2D(pool_size=(2, 2)))\n",
    "\n",
    "    model.add(Conv2D(32, (3, 3)))\n",
    "    model.add(Activation('relu'))\n",
    "    model.add(MaxPooling2D(pool_size=(2, 2)))\n",
    "\n",
    "    model.add(Conv2D(64, (3, 3)))\n",
    "    model.add(Activation('relu'))\n",
    "    model.add(MaxPooling2D(pool_size=(2, 2)))\n",
    "\n",
    "    model.add(Flatten())\n",
    "    model.add(Dense(64))\n",
    "    model.add(Activation('relu'))\n",
    "    model.add(Dropout(0.5))\n",
    "    model.add(Dense(120))\n",
    "    model.add(Activation('softmax'))\n",
    "\n",
    "   \n",
    "    ##### Mattia's model #####\n",
    "    # Add a new top layer\n",
    "    #x = base_model.output\n",
    "    #x = Flatten()(x)\n",
    "    #x = Dense(1024,activation='relu')(x)\n",
    "    #x = Dense(512,activation='relu')(x)\n",
    "    #predictions = Dense(num_class, activation='softmax')(x)\n",
    "\n",
    "    # This is the model we will train\n",
    "    #model = Model(inputs=base_model.input, outputs=predictions)\n",
    "\n",
    "    # First: train only the top layers (which were randomly initialized)\n",
    "    #for i in range(len(base_model.layers)-dontFreezeLast):\n",
    "        #base_model.layers[i].trainable = False\n",
    "\n",
    "    #if loadWeights:\n",
    "    #    model.load_weights(checkPointPath)\n",
    "    ##### Mattia's model #####\n",
    "    \n",
    "    model.compile(loss='categorical_crossentropy', \n",
    "                  optimizer='adam', \n",
    "                  metrics=['accuracy'])\n",
    "\n",
    "    callbacks_list = [];\n",
    "    callbacks_list.append(keras.callbacks.EarlyStopping(\n",
    "        monitor='val_acc',\n",
    "        patience=patience,\n",
    "        verbose=1));\n",
    "    if saveWeights:\n",
    "        callbacks_list.append(keras.callbacks.ModelCheckpoint(\n",
    "            checkPointPath,\n",
    "            monitor='val_acc',\n",
    "            verbose=1,\n",
    "            save_best_only=True,\n",
    "            mode='max',\n",
    "            save_weights_only=True))\n",
    "    if tensorboardFlag:\n",
    "        callbacks_list.append(keras.callbacks.TensorBoard(\n",
    "                log_dir=tensorboard_dir,\n",
    "                histogram_freq=histogram_freq,\n",
    "                write_graph=False,\n",
    "                write_images=False));\n",
    "        print('Tensorboard activated in directory: ',tensorboard_dir)\n",
    "    else:\n",
    "        print('Tensorboard NOT activated')\n",
    "\n",
    "\n",
    "    model.summary()"
   ]
  },
  {
   "cell_type": "code",
   "execution_count": 16,
   "metadata": {},
   "outputs": [],
   "source": [
    "def generator(X,Y,batch_size):\n",
    "    batch_features = np.ndarray(shape=(batch_size,) + X.shape[1:],\n",
    "                                dtype=X.dtype);\n",
    "    batch_labels = np.ndarray(shape=(batch_size,) + Y.shape[1:],\n",
    "                                dtype=Y.dtype)\n",
    "    N = X.shape[0];\n",
    "    \n",
    "    while True:\n",
    "        for i in range(batch_size):\n",
    "            # choose random index in features\n",
    "            index= np.random.choice(N,1)\n",
    "            batch_features[i] = X[index]\n",
    "            batch_labels[i] = Y[index]\n",
    "        yield batch_features, batch_labels"
   ]
  },
  {
   "cell_type": "code",
   "execution_count": 17,
   "metadata": {},
   "outputs": [
    {
     "name": "stdout",
     "output_type": "stream",
     "text": [
      "Train on 7155 samples, validate on 3067 samples\n",
      "Epoch 1/50\n",
      "7155/7155 [==============================] - 15s 2ms/step - loss: 4.7896 - acc: 0.0067 - val_loss: 4.7862 - val_acc: 0.0088\n",
      "Epoch 2/50\n",
      "7155/7155 [==============================] - 5s 760us/step - loss: 4.7855 - acc: 0.0108 - val_loss: 4.7853 - val_acc: 0.0130\n",
      "Epoch 3/50\n",
      "7155/7155 [==============================] - 5s 761us/step - loss: 4.7840 - acc: 0.0126 - val_loss: 4.7846 - val_acc: 0.0088\n",
      "Epoch 4/50\n",
      "7155/7155 [==============================] - 5s 754us/step - loss: 4.7824 - acc: 0.0116 - val_loss: 4.7828 - val_acc: 0.0147\n",
      "Epoch 5/50\n",
      "7155/7155 [==============================] - 5s 760us/step - loss: 4.7724 - acc: 0.0158 - val_loss: 4.7494 - val_acc: 0.0166\n",
      "Epoch 6/50\n",
      "7155/7155 [==============================] - 5s 757us/step - loss: 4.7193 - acc: 0.0180 - val_loss: 4.6575 - val_acc: 0.0222\n",
      "Epoch 7/50\n",
      "7155/7155 [==============================] - 5s 759us/step - loss: 4.6508 - acc: 0.0214 - val_loss: 4.6011 - val_acc: 0.0267\n",
      "Epoch 8/50\n",
      "7155/7155 [==============================] - 5s 761us/step - loss: 4.5946 - acc: 0.0249 - val_loss: 4.5326 - val_acc: 0.0375\n",
      "Epoch 9/50\n",
      "7155/7155 [==============================] - 5s 759us/step - loss: 4.5168 - acc: 0.0295 - val_loss: 4.5145 - val_acc: 0.0385\n",
      "Epoch 10/50\n",
      "7155/7155 [==============================] - 5s 759us/step - loss: 4.4711 - acc: 0.0376 - val_loss: 4.4147 - val_acc: 0.0424\n",
      "Epoch 11/50\n",
      "7155/7155 [==============================] - 5s 759us/step - loss: 4.4160 - acc: 0.0398 - val_loss: 4.3742 - val_acc: 0.0486\n",
      "Epoch 12/50\n",
      "7155/7155 [==============================] - 5s 756us/step - loss: 4.3550 - acc: 0.0435 - val_loss: 4.3522 - val_acc: 0.0486\n",
      "Epoch 13/50\n",
      "7155/7155 [==============================] - 5s 758us/step - loss: 4.2784 - acc: 0.0493 - val_loss: 4.3608 - val_acc: 0.0509\n",
      "Epoch 14/50\n",
      "7155/7155 [==============================] - 5s 758us/step - loss: 4.2430 - acc: 0.0519 - val_loss: 4.3367 - val_acc: 0.0499\n",
      "Epoch 15/50\n",
      "7155/7155 [==============================] - 5s 759us/step - loss: 4.1777 - acc: 0.0595 - val_loss: 4.3241 - val_acc: 0.0499\n",
      "Epoch 16/50\n",
      "7155/7155 [==============================] - 5s 756us/step - loss: 4.1191 - acc: 0.0647 - val_loss: 4.3168 - val_acc: 0.0515\n",
      "Epoch 17/50\n",
      "7155/7155 [==============================] - 5s 758us/step - loss: 4.0623 - acc: 0.0667 - val_loss: 4.3199 - val_acc: 0.0538\n",
      "Epoch 18/50\n",
      "7155/7155 [==============================] - 5s 759us/step - loss: 3.9901 - acc: 0.0763 - val_loss: 4.3237 - val_acc: 0.0580\n",
      "Epoch 19/50\n",
      "7155/7155 [==============================] - 5s 753us/step - loss: 3.9455 - acc: 0.0725 - val_loss: 4.3486 - val_acc: 0.0522\n",
      "Epoch 20/50\n",
      "7155/7155 [==============================] - 5s 761us/step - loss: 3.8591 - acc: 0.0886 - val_loss: 4.3583 - val_acc: 0.0528\n",
      "Epoch 21/50\n",
      "7155/7155 [==============================] - 5s 756us/step - loss: 3.8064 - acc: 0.0956 - val_loss: 4.3956 - val_acc: 0.0541\n",
      "Epoch 22/50\n",
      "7155/7155 [==============================] - 5s 760us/step - loss: 3.7525 - acc: 0.0931 - val_loss: 4.4522 - val_acc: 0.0466\n",
      "Epoch 23/50\n",
      "7155/7155 [==============================] - 5s 758us/step - loss: 3.6962 - acc: 0.1037 - val_loss: 4.4877 - val_acc: 0.0541\n",
      "Epoch 24/50\n",
      "7155/7155 [==============================] - 5s 760us/step - loss: 3.6454 - acc: 0.1138 - val_loss: 4.4878 - val_acc: 0.0489\n",
      "Epoch 25/50\n",
      "7155/7155 [==============================] - 5s 758us/step - loss: 3.5782 - acc: 0.1196 - val_loss: 4.5556 - val_acc: 0.0499\n",
      "Epoch 26/50\n",
      "7155/7155 [==============================] - 5s 758us/step - loss: 3.5262 - acc: 0.1154 - val_loss: 4.6093 - val_acc: 0.0489\n",
      "Epoch 27/50\n",
      "7155/7155 [==============================] - 5s 760us/step - loss: 3.4914 - acc: 0.1252 - val_loss: 4.6626 - val_acc: 0.0470\n",
      "Epoch 28/50\n",
      "7155/7155 [==============================] - 5s 761us/step - loss: 3.4229 - acc: 0.1392 - val_loss: 4.7463 - val_acc: 0.0460\n",
      "Epoch 29/50\n",
      "7155/7155 [==============================] - 5s 759us/step - loss: 3.4047 - acc: 0.1353 - val_loss: 4.8243 - val_acc: 0.0525\n",
      "Epoch 30/50\n",
      "7155/7155 [==============================] - 5s 761us/step - loss: 3.3496 - acc: 0.1445 - val_loss: 4.8106 - val_acc: 0.0470\n",
      "Epoch 31/50\n",
      "7155/7155 [==============================] - 5s 759us/step - loss: 3.2981 - acc: 0.1491 - val_loss: 4.8836 - val_acc: 0.0499\n",
      "Epoch 32/50\n",
      "7155/7155 [==============================] - 5s 760us/step - loss: 3.2416 - acc: 0.1536 - val_loss: 4.9998 - val_acc: 0.0473\n",
      "Epoch 33/50\n",
      "7155/7155 [==============================] - 5s 761us/step - loss: 3.2109 - acc: 0.1575 - val_loss: 5.0595 - val_acc: 0.0531\n",
      "Epoch 34/50\n",
      "7155/7155 [==============================] - 5s 760us/step - loss: 3.1950 - acc: 0.1623 - val_loss: 5.1131 - val_acc: 0.0470\n",
      "Epoch 35/50\n",
      "7155/7155 [==============================] - 5s 762us/step - loss: 3.1470 - acc: 0.1665 - val_loss: 5.1184 - val_acc: 0.0470\n",
      "Epoch 36/50\n",
      "7155/7155 [==============================] - 5s 762us/step - loss: 3.1018 - acc: 0.1727 - val_loss: 5.3460 - val_acc: 0.0505\n",
      "Epoch 37/50\n",
      "7155/7155 [==============================] - 5s 760us/step - loss: 3.0865 - acc: 0.1767 - val_loss: 5.3912 - val_acc: 0.0447\n",
      "Epoch 38/50\n",
      "7155/7155 [==============================] - 5s 762us/step - loss: 3.0738 - acc: 0.1778 - val_loss: 5.4566 - val_acc: 0.0476\n",
      "Epoch 39/50\n",
      "7155/7155 [==============================] - 5s 761us/step - loss: 3.0243 - acc: 0.1821 - val_loss: 5.4909 - val_acc: 0.0483\n",
      "Epoch 40/50\n",
      "7155/7155 [==============================] - 5s 762us/step - loss: 2.9820 - acc: 0.1925 - val_loss: 5.5782 - val_acc: 0.0456\n",
      "Epoch 41/50\n",
      "7155/7155 [==============================] - 5s 763us/step - loss: 2.9765 - acc: 0.1884 - val_loss: 5.7014 - val_acc: 0.0466\n",
      "Epoch 42/50\n",
      "7155/7155 [==============================] - 5s 763us/step - loss: 2.9614 - acc: 0.1989 - val_loss: 5.6210 - val_acc: 0.0417\n",
      "Epoch 43/50\n",
      "7155/7155 [==============================] - 5s 765us/step - loss: 2.9167 - acc: 0.1965 - val_loss: 5.9143 - val_acc: 0.0450\n",
      "Epoch 44/50\n",
      "7155/7155 [==============================] - 5s 769us/step - loss: 2.9030 - acc: 0.2039 - val_loss: 5.7892 - val_acc: 0.0460\n",
      "Epoch 45/50\n",
      "7155/7155 [==============================] - 5s 763us/step - loss: 2.9053 - acc: 0.2022 - val_loss: 5.9719 - val_acc: 0.0437\n",
      "Epoch 46/50\n",
      "7155/7155 [==============================] - 5s 765us/step - loss: 2.8815 - acc: 0.2045 - val_loss: 5.9732 - val_acc: 0.0443\n",
      "Epoch 47/50\n",
      "7155/7155 [==============================] - 5s 766us/step - loss: 2.8368 - acc: 0.2113 - val_loss: 6.0128 - val_acc: 0.0430\n",
      "Epoch 48/50\n",
      "7155/7155 [==============================] - 5s 762us/step - loss: 2.8084 - acc: 0.2161 - val_loss: 6.1873 - val_acc: 0.0456\n",
      "Epoch 00048: early stopping\n"
     ]
    },
    {
     "data": {
      "text/plain": [
       "<keras.callbacks.History at 0x7fa9da343750>"
      ]
     },
     "execution_count": 17,
     "metadata": {},
     "output_type": "execute_result"
    }
   ],
   "source": [
    "model.fit(X_train, Y_train,\n",
    "          epochs=epochs,\n",
    "          batch_size = batchSize,\n",
    "          validation_data=(X_valid, Y_valid),\n",
    "          verbose=1,\n",
    "          callbacks=callbacks_list)\n",
    "\n",
    "# steps_per_epoch = round(X_train.shape[0]/batchSize)\n",
    "# model.fit_generator(generator(X_train,Y_train,batchSize),\n",
    "#                    steps_per_epoch=steps_per_epoch,\n",
    "#                    epochs=epochs,\n",
    "#                    verbose=1,\n",
    "#                    callbacks=callbacks_list,\n",
    "#                    validation_data=(X_valid,Y_valid),\n",
    "#                    workers=workers,\n",
    "#                    use_multiprocessing=True)"
   ]
  },
  {
   "cell_type": "markdown",
   "metadata": {},
   "source": [
    "Remember, accuracy is low here because we are not taking advantage of the pre-trained weights as they cannot be downloaded in the kernel. This means we are training the wights from scratch and I we have only run 1 epoch due to the hardware constraints in the kernel.\n",
    "\n",
    "Next we will make our predictions."
   ]
  },
  {
   "cell_type": "code",
   "execution_count": 18,
   "metadata": {},
   "outputs": [],
   "source": [
    "# preds = model.predict(x_test, verbose=1)"
   ]
  },
  {
   "cell_type": "code",
   "execution_count": 19,
   "metadata": {},
   "outputs": [],
   "source": [
    "# sub = pd.DataFrame(preds)\n",
    "# # Set column names to those generated by the one-hot encoding earlier\n",
    "# col_names = one_hot.columns.values\n",
    "# sub.columns = col_names\n",
    "# # Insert the column id from the sample_submission at the start of the data frame\n",
    "# sub.insert(0, 'id', df_test['id'])\n",
    "# sub.head(10)"
   ]
  },
  {
   "cell_type": "code",
   "execution_count": null,
   "metadata": {},
   "outputs": [],
   "source": []
  }
 ],
 "metadata": {
  "kernelspec": {
   "display_name": "Python 3",
   "language": "python",
   "name": "python3"
  },
  "language_info": {
   "codemirror_mode": {
    "name": "ipython",
    "version": 2
   },
   "file_extension": ".py",
   "mimetype": "text/x-python",
   "name": "python",
   "nbconvert_exporter": "python",
   "pygments_lexer": "ipython2",
   "version": "2.7.12"
  }
 },
 "nbformat": 4,
 "nbformat_minor": 2
}
