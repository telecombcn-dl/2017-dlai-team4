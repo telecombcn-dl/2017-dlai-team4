{
 "cells": [
  {
   "cell_type": "code",
   "execution_count": 1,
   "metadata": {},
   "outputs": [
    {
     "name": "stderr",
     "output_type": "stream",
     "text": [
      "Using TensorFlow backend.\n"
     ]
    },
    {
     "name": "stdout",
     "output_type": "stream",
     "text": [
      "labels.csv\n",
      "sample_submission.csv\n",
      "test\n",
      "train\n",
      "\n"
     ]
    }
   ],
   "source": [
    "# This Python 3 environment comes with many helpful analytics libraries installed\n",
    "# It is defined by the kaggle/python docker image: https://github.com/kaggle/docker-python\n",
    "# For example, here's several helpful packages to load in \n",
    "import numpy as np # linear algebra\n",
    "import pandas as pd # data processing, CSV file I/O (e.g. pd.read_csv)\n",
    "import keras\n",
    "from keras.models import Model\n",
    "from keras.layers import Dense, Dropout, Flatten\n",
    "from keras.preprocessing.image import ImageDataGenerator\n",
    "from keras.models import Sequential\n",
    "from keras.layers import Conv2D, MaxPooling2D\n",
    "from keras.layers import Activation, Dropout, Flatten, Dense\n",
    "from keras import backend as K\n",
    "from keras.layers.normalization import BatchNormalization\n",
    "from keras.optimizers import Adam\n",
    "from keras import regularizers\n",
    "from hyperas.distributions import uniform\n",
    "\n",
    "\n",
    "import tensorflow as tf\n",
    "import random\n",
    "import os\n",
    "from tqdm import tqdm\n",
    "from sklearn import preprocessing\n",
    "from sklearn.model_selection import train_test_split\n",
    "import cv2\n",
    "# Input data files are available in the \"../input/\" directory.\n",
    "# For example, running this (by clicking run or pressing Shift+Enter) will list the files in the input directory\n",
    "\n",
    "from subprocess import check_output\n",
    "print(check_output([\"ls\", \"../input\"]).decode(\"utf8\"))\n",
    "# Any results you write to the current directory are saved as output."
   ]
  },
  {
   "cell_type": "code",
   "execution_count": 21,
   "metadata": {},
   "outputs": [],
   "source": [
    "######### VGG19 parameters ########\n",
    "dontFreezeLast = 2;\n",
    "\n",
    "patience = 30;\n",
    "\n",
    "loadWeights = False;\n",
    "saveWeights = False;\n",
    "\n",
    "\n",
    "tensorboard_dir = '../tb/mnist/try1_drop02reg01';\n",
    "if not os.path.exists(tensorboard_dir):\n",
    "    os.makedirs(tensorboard_dir)    \n",
    "checkPointPath = tensorboard_dir + '/best_weights.hdf5';\n",
    "\n",
    "####################################\n",
    "\n",
    "gpuName = '/device:GPU:0'\n",
    "tensorboardFlag = True;\n",
    "workers = 10;\n",
    "histogram_freq = 0;\n",
    "\n",
    "batchSize = 32;\n",
    "epochs = 50;\n",
    "validation_size=0.3;"
   ]
  },
  {
   "cell_type": "markdown",
   "metadata": {},
   "source": [
    "First we will read in the csv's so we can see some more information on the filenames and breeds"
   ]
  },
  {
   "cell_type": "code",
   "execution_count": 3,
   "metadata": {},
   "outputs": [
    {
     "name": "stdout",
     "output_type": "stream",
     "text": [
      "('Training images: ', 10222)\n",
      "('Test images: ', 10357)\n"
     ]
    }
   ],
   "source": [
    "df_train = pd.read_csv('../input/labels.csv')\n",
    "df_test = pd.read_csv('../input/sample_submission.csv')\n",
    "\n",
    "print('Training images: ',df_train.shape[0])\n",
    "print('Test images: ',df_test.shape[0])\n",
    "\n",
    "# reduce dimensionality\n",
    "#df_train = df_train.head(100)\n",
    "#df_test = df_test.head(100)"
   ]
  },
  {
   "cell_type": "code",
   "execution_count": 4,
   "metadata": {},
   "outputs": [
    {
     "data": {
      "text/html": [
       "<div>\n",
       "<style scoped>\n",
       "    .dataframe tbody tr th:only-of-type {\n",
       "        vertical-align: middle;\n",
       "    }\n",
       "\n",
       "    .dataframe tbody tr th {\n",
       "        vertical-align: top;\n",
       "    }\n",
       "\n",
       "    .dataframe thead th {\n",
       "        text-align: right;\n",
       "    }\n",
       "</style>\n",
       "<table border=\"1\" class=\"dataframe\">\n",
       "  <thead>\n",
       "    <tr style=\"text-align: right;\">\n",
       "      <th></th>\n",
       "      <th>id</th>\n",
       "      <th>breed</th>\n",
       "    </tr>\n",
       "  </thead>\n",
       "  <tbody>\n",
       "    <tr>\n",
       "      <th>0</th>\n",
       "      <td>000bec180eb18c7604dcecc8fe0dba07</td>\n",
       "      <td>boston_bull</td>\n",
       "    </tr>\n",
       "    <tr>\n",
       "      <th>1</th>\n",
       "      <td>001513dfcb2ffafc82cccf4d8bbaba97</td>\n",
       "      <td>dingo</td>\n",
       "    </tr>\n",
       "    <tr>\n",
       "      <th>2</th>\n",
       "      <td>001cdf01b096e06d78e9e5112d419397</td>\n",
       "      <td>pekinese</td>\n",
       "    </tr>\n",
       "    <tr>\n",
       "      <th>3</th>\n",
       "      <td>00214f311d5d2247d5dfe4fe24b2303d</td>\n",
       "      <td>bluetick</td>\n",
       "    </tr>\n",
       "    <tr>\n",
       "      <th>4</th>\n",
       "      <td>0021f9ceb3235effd7fcde7f7538ed62</td>\n",
       "      <td>golden_retriever</td>\n",
       "    </tr>\n",
       "    <tr>\n",
       "      <th>5</th>\n",
       "      <td>002211c81b498ef88e1b40b9abf84e1d</td>\n",
       "      <td>bedlington_terrier</td>\n",
       "    </tr>\n",
       "    <tr>\n",
       "      <th>6</th>\n",
       "      <td>00290d3e1fdd27226ba27a8ce248ce85</td>\n",
       "      <td>bedlington_terrier</td>\n",
       "    </tr>\n",
       "    <tr>\n",
       "      <th>7</th>\n",
       "      <td>002a283a315af96eaea0e28e7163b21b</td>\n",
       "      <td>borzoi</td>\n",
       "    </tr>\n",
       "    <tr>\n",
       "      <th>8</th>\n",
       "      <td>003df8b8a8b05244b1d920bb6cf451f9</td>\n",
       "      <td>basenji</td>\n",
       "    </tr>\n",
       "    <tr>\n",
       "      <th>9</th>\n",
       "      <td>0042188c895a2f14ef64a918ed9c7b64</td>\n",
       "      <td>scottish_deerhound</td>\n",
       "    </tr>\n",
       "  </tbody>\n",
       "</table>\n",
       "</div>"
      ],
      "text/plain": [
       "                                 id               breed\n",
       "0  000bec180eb18c7604dcecc8fe0dba07         boston_bull\n",
       "1  001513dfcb2ffafc82cccf4d8bbaba97               dingo\n",
       "2  001cdf01b096e06d78e9e5112d419397            pekinese\n",
       "3  00214f311d5d2247d5dfe4fe24b2303d            bluetick\n",
       "4  0021f9ceb3235effd7fcde7f7538ed62    golden_retriever\n",
       "5  002211c81b498ef88e1b40b9abf84e1d  bedlington_terrier\n",
       "6  00290d3e1fdd27226ba27a8ce248ce85  bedlington_terrier\n",
       "7  002a283a315af96eaea0e28e7163b21b              borzoi\n",
       "8  003df8b8a8b05244b1d920bb6cf451f9             basenji\n",
       "9  0042188c895a2f14ef64a918ed9c7b64  scottish_deerhound"
      ]
     },
     "execution_count": 4,
     "metadata": {},
     "output_type": "execute_result"
    }
   ],
   "source": [
    "df_train.head(10)"
   ]
  },
  {
   "cell_type": "markdown",
   "metadata": {},
   "source": [
    "We can see that the breed needs to be one-hot encoded for the final submission, so we will now do this."
   ]
  },
  {
   "cell_type": "code",
   "execution_count": 5,
   "metadata": {},
   "outputs": [],
   "source": [
    "targets_series = pd.Series(df_train['breed'])\n",
    "one_hot = pd.get_dummies(targets_series, sparse = True)"
   ]
  },
  {
   "cell_type": "code",
   "execution_count": 6,
   "metadata": {},
   "outputs": [],
   "source": [
    "one_hot_labels = np.asarray(one_hot)"
   ]
  },
  {
   "cell_type": "markdown",
   "metadata": {},
   "source": [
    "Next we will read in all of the images for test and train, using a for loop through the values of the csv files. I have also set an im_size variable which sets the size for the image to be re-sized to, 90x90 px, you should play with this number to see how it affects accuracy."
   ]
  },
  {
   "cell_type": "code",
   "execution_count": 7,
   "metadata": {},
   "outputs": [],
   "source": [
    "im_size = 90"
   ]
  },
  {
   "cell_type": "code",
   "execution_count": 8,
   "metadata": {},
   "outputs": [],
   "source": [
    "x_train = []\n",
    "y_train = []"
   ]
  },
  {
   "cell_type": "code",
   "execution_count": 9,
   "metadata": {},
   "outputs": [
    {
     "name": "stderr",
     "output_type": "stream",
     "text": [
      "100%|██████████| 10222/10222 [01:06<00:00, 154.56it/s]\n"
     ]
    }
   ],
   "source": [
    "i = 0 \n",
    "for f, breed in tqdm(df_train.values):\n",
    "    img = cv2.imread('../input/train/{}.jpg'.format(f))\n",
    "    label = one_hot_labels[i]\n",
    "    x_train.append(cv2.resize(img, (im_size, im_size)))\n",
    "    y_train.append(label)\n",
    "    i += 1"
   ]
  },
  {
   "cell_type": "code",
   "execution_count": 10,
   "metadata": {},
   "outputs": [],
   "source": [
    "y_train_raw = np.array(y_train, np.uint8)/255.\n",
    "x_train_raw = np.array(x_train, np.float32) / 255.\n"
   ]
  },
  {
   "cell_type": "markdown",
   "metadata": {},
   "source": [
    "We check the shape of the outputs to make sure everyting went as expected."
   ]
  },
  {
   "cell_type": "code",
   "execution_count": 11,
   "metadata": {},
   "outputs": [
    {
     "name": "stdout",
     "output_type": "stream",
     "text": [
      "(10222, 90, 90, 3)\n",
      "(10222, 120)\n"
     ]
    }
   ],
   "source": [
    "print(x_train_raw.shape)\n",
    "print(y_train_raw.shape)"
   ]
  },
  {
   "cell_type": "markdown",
   "metadata": {},
   "source": [
    "We can see above that there are 120 different breeds. We can put this in a num_class variable below that can then be used when creating the CNN model."
   ]
  },
  {
   "cell_type": "code",
   "execution_count": 12,
   "metadata": {},
   "outputs": [
    {
     "name": "stdout",
     "output_type": "stream",
     "text": [
      "('Number of classes: ', 120)\n"
     ]
    }
   ],
   "source": [
    "num_class = y_train_raw.shape[1]\n",
    "print('Number of classes: ', num_class)"
   ]
  },
  {
   "cell_type": "markdown",
   "metadata": {},
   "source": [
    "It is important to create a validation set so that you can gauge the performance of your model on independent data, unseen to the model in training. We do this by splitting the current training set (x_train_raw) and the corresponding labels (y_train_raw) so that we set aside 30 % of the data at random and put these in validation sets (X_valid and Y_valid).\n",
    "\n",
    "* This split needs to be improved so that it contains images from every class, with 120 separate classes some can not be represented and so the validation score is not informative."
   ]
  },
  {
   "cell_type": "code",
   "execution_count": 13,
   "metadata": {},
   "outputs": [],
   "source": [
    "X_train, X_valid, Y_train, Y_valid = train_test_split(x_train_raw, y_train_raw, test_size=validation_size, random_state=1)"
   ]
  },
  {
   "cell_type": "markdown",
   "metadata": {},
   "source": [
    "Now we build the CNN architecture. Here we are using a pre-trained model VGG19 which has already been trained to identify many different dog breeds (as well as a lot of other objects from the imagenet dataset see here for more information: http://image-net.org/about-overview). Unfortunately it doesn't seem possible to downlod the weights from within this kernel so make sure you set the weights argument to 'imagenet' and not None, as it currently is below.\n",
    "\n",
    "We then remove the final layer and instead replace it with a single dense layer with the number of nodes corresponding to the number of breed classes we have (120)."
   ]
  },
  {
   "cell_type": "code",
   "execution_count": 22,
   "metadata": {},
   "outputs": [
    {
     "name": "stdout",
     "output_type": "stream",
     "text": [
      "('Tensorboard activated in directory: ', '../tb/mnist/try1_drop02reg01')\n",
      "_________________________________________________________________\n",
      "Layer (type)                 Output Shape              Param #   \n",
      "=================================================================\n",
      "conv2d_9 (Conv2D)            (None, 88, 88, 32)        896       \n",
      "_________________________________________________________________\n",
      "activation_13 (Activation)   (None, 88, 88, 32)        0         \n",
      "_________________________________________________________________\n",
      "conv2d_10 (Conv2D)           (None, 86, 86, 32)        9248      \n",
      "_________________________________________________________________\n",
      "activation_14 (Activation)   (None, 86, 86, 32)        0         \n",
      "_________________________________________________________________\n",
      "max_pooling2d_5 (MaxPooling2 (None, 43, 43, 32)        0         \n",
      "_________________________________________________________________\n",
      "conv2d_11 (Conv2D)           (None, 41, 41, 64)        18496     \n",
      "_________________________________________________________________\n",
      "activation_15 (Activation)   (None, 41, 41, 64)        0         \n",
      "_________________________________________________________________\n",
      "conv2d_12 (Conv2D)           (None, 39, 39, 64)        36928     \n",
      "_________________________________________________________________\n",
      "activation_16 (Activation)   (None, 39, 39, 64)        0         \n",
      "_________________________________________________________________\n",
      "max_pooling2d_6 (MaxPooling2 (None, 19, 19, 64)        0         \n",
      "_________________________________________________________________\n",
      "flatten_3 (Flatten)          (None, 23104)             0         \n",
      "_________________________________________________________________\n",
      "dense_5 (Dense)              (None, 512)               11829760  \n",
      "_________________________________________________________________\n",
      "activation_17 (Activation)   (None, 512)               0         \n",
      "_________________________________________________________________\n",
      "dropout_3 (Dropout)          (None, 512)               0         \n",
      "_________________________________________________________________\n",
      "dense_6 (Dense)              (None, 120)               61560     \n",
      "_________________________________________________________________\n",
      "activation_18 (Activation)   (None, 120)               0         \n",
      "=================================================================\n",
      "Total params: 11,956,888\n",
      "Trainable params: 11,956,888\n",
      "Non-trainable params: 0\n",
      "_________________________________________________________________\n"
     ]
    }
   ],
   "source": [
    "# Create the base pre-trained model\n",
    "# Can't download weights in the kernel\n",
    "with tf.device(gpuName):\n",
    "    \n",
    "    dropout_rate = 0.5\n",
    "    if K.image_data_format() == 'channels_first':\n",
    "        input_shape = (3, im_size, im_size)\n",
    "    else:\n",
    "        input_shape = (im_size, im_size, 3)\n",
    "\n",
    "     \n",
    "    \n",
    "    model = Sequential()\n",
    "\n",
    "    model.add(Conv2D(32, (3, 3), input_shape=(im_size,im_size,3)))\n",
    "    model.add(Activation('relu'))\n",
    "    BatchNormalization(axis=-1)\n",
    "    model.add(Conv2D(32, (3, 3),kernel_regularizer=regularizers.l2(0.1)))\n",
    "    model.add(Activation('relu'))\n",
    "    model.add(MaxPooling2D(pool_size=(2,2)))\n",
    " \n",
    "    BatchNormalization(axis=-1)\n",
    "    model.add(Conv2D(64,(3, 3)))\n",
    "    model.add(Activation('relu'))\n",
    "    BatchNormalization(axis=-1)\n",
    "    model.add(Conv2D(64, (3, 3)))\n",
    "    model.add(Activation('relu'))\n",
    "    model.add(MaxPooling2D(pool_size=(2,2)))\n",
    "\n",
    "    model.add(Flatten())\n",
    "    # Fully connected layer\n",
    "\n",
    "    BatchNormalization()\n",
    "    model.add(Dense(512))\n",
    "    model.add(Activation('relu'))\n",
    "    BatchNormalization()\n",
    "    model.add(Dropout(0.2))\n",
    "    model.add(Dense(120))\n",
    "    #model.add(Conv2D(10,(3,3)))\n",
    "    #model.add(GlobalAveragePooling2D('none'))\n",
    "    model.add(Activation('softmax'))\n",
    "   \n",
    "\n",
    "    model.compile(loss='categorical_crossentropy', \n",
    "                  optimizer='adam', \n",
    "                  metrics=['accuracy'])\n",
    "\n",
    "    callbacks_list = [];\n",
    "    callbacks_list.append(keras.callbacks.EarlyStopping(\n",
    "        monitor='val_acc',\n",
    "        patience=patience,\n",
    "        verbose=1));\n",
    "    if saveWeights:\n",
    "        callbacks_list.append(keras.callbacks.ModelCheckpoint(\n",
    "            checkPointPath,\n",
    "            monitor='val_acc',\n",
    "            verbose=1,\n",
    "            save_best_only=True,\n",
    "            mode='max',\n",
    "            save_weights_only=True))\n",
    "    if tensorboardFlag:\n",
    "        callbacks_list.append(keras.callbacks.TensorBoard(\n",
    "                log_dir=tensorboard_dir,\n",
    "                histogram_freq=histogram_freq,\n",
    "                write_graph=False,\n",
    "                write_images=False));\n",
    "        print('Tensorboard activated in directory: ',tensorboard_dir)\n",
    "    else:\n",
    "        print('Tensorboard NOT activated')\n",
    "\n",
    "\n",
    "    model.summary()"
   ]
  },
  {
   "cell_type": "code",
   "execution_count": 23,
   "metadata": {},
   "outputs": [],
   "source": [
    "def generator(X,Y,batch_size):\n",
    "    batch_features = np.ndarray(shape=(batch_size,) + X.shape[1:],\n",
    "                                dtype=X.dtype);\n",
    "    batch_labels = np.ndarray(shape=(batch_size,) + Y.shape[1:],\n",
    "                                dtype=Y.dtype)\n",
    "    N = X.shape[0];\n",
    "    \n",
    "    while True:\n",
    "        for i in range(batch_size):\n",
    "            # choose random index in features\n",
    "            index= np.random.choice(N,1)\n",
    "            batch_features[i] = X[index]\n",
    "            batch_labels[i] = Y[index]\n",
    "        yield batch_features, batch_labels"
   ]
  },
  {
   "cell_type": "code",
   "execution_count": 24,
   "metadata": {
    "scrolled": false
   },
   "outputs": [
    {
     "name": "stdout",
     "output_type": "stream",
     "text": [
      "Train on 7155 samples, validate on 3067 samples\n",
      "Epoch 1/50\n",
      "7155/7155 [==============================] - 18s 3ms/step - loss: 0.4424 - acc: 0.0078 - val_loss: 0.0188 - val_acc: 0.0137\n",
      "Epoch 2/50\n",
      "7155/7155 [==============================] - 18s 3ms/step - loss: 0.0188 - acc: 0.0099 - val_loss: 0.0188 - val_acc: 0.0137\n",
      "Epoch 3/50\n",
      "7155/7155 [==============================] - 18s 3ms/step - loss: 0.0187 - acc: 0.0112 - val_loss: 0.0188 - val_acc: 0.0137\n",
      "Epoch 4/50\n",
      "7155/7155 [==============================] - 18s 3ms/step - loss: 0.0187 - acc: 0.0116 - val_loss: 0.0188 - val_acc: 0.0137\n",
      "Epoch 5/50\n",
      "7155/7155 [==============================] - 18s 3ms/step - loss: 0.0187 - acc: 0.0103 - val_loss: 0.0188 - val_acc: 0.0137\n",
      "Epoch 6/50\n",
      "7155/7155 [==============================] - 18s 3ms/step - loss: 0.0187 - acc: 0.0096 - val_loss: 0.0188 - val_acc: 0.0137\n",
      "Epoch 7/50\n",
      "7155/7155 [==============================] - 18s 3ms/step - loss: 0.0187 - acc: 0.0098 - val_loss: 0.0188 - val_acc: 0.0137\n",
      "Epoch 8/50\n",
      "7155/7155 [==============================] - 18s 2ms/step - loss: 0.0187 - acc: 0.0115 - val_loss: 0.0188 - val_acc: 0.0137\n",
      "Epoch 9/50\n",
      "7155/7155 [==============================] - 18s 3ms/step - loss: 0.0187 - acc: 0.0115 - val_loss: 0.0188 - val_acc: 0.0137\n",
      "Epoch 10/50\n",
      "7155/7155 [==============================] - 18s 3ms/step - loss: 0.0187 - acc: 0.0116 - val_loss: 0.0188 - val_acc: 0.0137\n",
      "Epoch 11/50\n",
      "7155/7155 [==============================] - 18s 3ms/step - loss: 0.0187 - acc: 0.0116 - val_loss: 0.0188 - val_acc: 0.0137\n",
      "Epoch 12/50\n",
      "7155/7155 [==============================] - 18s 2ms/step - loss: 0.0187 - acc: 0.0119 - val_loss: 0.0188 - val_acc: 0.0137\n",
      "Epoch 13/50\n",
      "7155/7155 [==============================] - 18s 3ms/step - loss: 0.0187 - acc: 0.0099 - val_loss: 0.0188 - val_acc: 0.0104\n",
      "Epoch 14/50\n",
      "7155/7155 [==============================] - 18s 3ms/step - loss: 0.0187 - acc: 0.0120 - val_loss: 0.0188 - val_acc: 0.0137\n",
      "Epoch 15/50\n",
      "7155/7155 [==============================] - 18s 2ms/step - loss: 0.0187 - acc: 0.0108 - val_loss: 0.0188 - val_acc: 0.0137\n",
      "Epoch 16/50\n",
      "7155/7155 [==============================] - 18s 3ms/step - loss: 0.0187 - acc: 0.0113 - val_loss: 0.0188 - val_acc: 0.0137\n",
      "Epoch 17/50\n",
      "7155/7155 [==============================] - 18s 3ms/step - loss: 0.0187 - acc: 0.0120 - val_loss: 0.0188 - val_acc: 0.0137\n",
      "Epoch 18/50\n",
      "7155/7155 [==============================] - 18s 2ms/step - loss: 0.0187 - acc: 0.0119 - val_loss: 0.0188 - val_acc: 0.0137\n",
      "Epoch 19/50\n",
      "7155/7155 [==============================] - 18s 3ms/step - loss: 0.0187 - acc: 0.0098 - val_loss: 0.0188 - val_acc: 0.0137\n",
      "Epoch 20/50\n",
      "7155/7155 [==============================] - 18s 3ms/step - loss: 0.0187 - acc: 0.0096 - val_loss: 0.0188 - val_acc: 0.0137\n",
      "Epoch 21/50\n",
      "7155/7155 [==============================] - 18s 3ms/step - loss: 0.0187 - acc: 0.0108 - val_loss: 0.0188 - val_acc: 0.0137\n",
      "Epoch 22/50\n",
      "7155/7155 [==============================] - 18s 3ms/step - loss: 0.0187 - acc: 0.0117 - val_loss: 0.0188 - val_acc: 0.0137\n",
      "Epoch 23/50\n",
      "7155/7155 [==============================] - 18s 3ms/step - loss: 0.0187 - acc: 0.0098 - val_loss: 0.0188 - val_acc: 0.0137\n",
      "Epoch 24/50\n",
      "7155/7155 [==============================] - 18s 3ms/step - loss: 0.0187 - acc: 0.0106 - val_loss: 0.0188 - val_acc: 0.0137\n",
      "Epoch 25/50\n",
      "7155/7155 [==============================] - 18s 3ms/step - loss: 0.0187 - acc: 0.0108 - val_loss: 0.0188 - val_acc: 0.0104\n",
      "Epoch 26/50\n",
      "7155/7155 [==============================] - 18s 2ms/step - loss: 0.0187 - acc: 0.0105 - val_loss: 0.0188 - val_acc: 0.0137\n",
      "Epoch 27/50\n",
      "7155/7155 [==============================] - 18s 3ms/step - loss: 0.0187 - acc: 0.0122 - val_loss: 0.0188 - val_acc: 0.0137\n",
      "Epoch 28/50\n",
      "7155/7155 [==============================] - 18s 3ms/step - loss: 0.0187 - acc: 0.0116 - val_loss: 0.0188 - val_acc: 0.0137\n",
      "Epoch 29/50\n",
      "7155/7155 [==============================] - 18s 3ms/step - loss: 0.0187 - acc: 0.0113 - val_loss: 0.0188 - val_acc: 0.0137\n",
      "Epoch 30/50\n",
      "7155/7155 [==============================] - 18s 2ms/step - loss: 0.0187 - acc: 0.0119 - val_loss: 0.0188 - val_acc: 0.0137\n",
      "Epoch 31/50\n",
      "7155/7155 [==============================] - 18s 2ms/step - loss: 0.0187 - acc: 0.0119 - val_loss: 0.0188 - val_acc: 0.0137\n",
      "Epoch 00031: early stopping\n"
     ]
    },
    {
     "data": {
      "text/plain": [
       "<keras.callbacks.History at 0x7fcbc2438f90>"
      ]
     },
     "execution_count": 24,
     "metadata": {},
     "output_type": "execute_result"
    }
   ],
   "source": [
    "model.fit(X_train, Y_train,\n",
    "          epochs=epochs,\n",
    "          batch_size = batchSize,\n",
    "          validation_data=(X_valid, Y_valid),\n",
    "          verbose=1,\n",
    "          callbacks=callbacks_list)\n",
    "\n",
    "# steps_per_epoch = round(X_train.shape[0]/batchSize)\n",
    "# model.fit_generator(generator(X_train,Y_train,batchSize),\n",
    "#                    steps_per_epoch=steps_per_epoch,\n",
    "#                    epochs=epochs,\n",
    "#                    verbose=1,\n",
    "#                    callbacks=callbacks_list,\n",
    "#                    validation_data=(X_valid,Y_valid),\n",
    "#                    workers=workers,\n",
    "#                    use_multiprocessing=True)"
   ]
  },
  {
   "cell_type": "code",
   "execution_count": null,
   "metadata": {},
   "outputs": [],
   "source": []
  }
 ],
 "metadata": {
  "kernelspec": {
   "display_name": "Python 3",
   "language": "python",
   "name": "python3"
  },
  "language_info": {
   "codemirror_mode": {
    "name": "ipython",
    "version": 2
   },
   "file_extension": ".py",
   "mimetype": "text/x-python",
   "name": "python",
   "nbconvert_exporter": "python",
   "pygments_lexer": "ipython2",
   "version": "2.7.12"
  }
 },
 "nbformat": 4,
 "nbformat_minor": 2
}
